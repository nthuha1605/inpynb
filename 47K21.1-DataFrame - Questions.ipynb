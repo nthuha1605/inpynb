{
 "cells": [
  {
   "cell_type": "markdown",
   "metadata": {},
   "source": [
    "# Bài thực hành 3: Series và Data Frame"
   ]
  },
  {
   "cell_type": "markdown",
   "metadata": {},
   "source": [
    "## Assignment 1: Series"
   ]
  },
  {
   "cell_type": "code",
   "execution_count": 2,
   "metadata": {},
   "outputs": [
    {
     "name": "stdout",
     "output_type": "stream",
     "text": [
      "0     4\n",
      "1     5\n",
      "2     6\n",
      "3     7\n",
      "4     4\n",
      "5     8\n",
      "6     8\n",
      "7     9\n",
      "8     6\n",
      "9     4\n",
      "10    6\n",
      "11    9\n",
      "12    2\n",
      "13    9\n",
      "14    6\n",
      "15    2\n",
      "16    2\n",
      "17    1\n",
      "18    3\n",
      "19    9\n",
      "20    6\n",
      "21    5\n",
      "22    6\n",
      "23    1\n",
      "24    7\n",
      "25    4\n",
      "26    4\n",
      "27    8\n",
      "28    2\n",
      "29    8\n",
      "30    3\n",
      "31    9\n",
      "32    7\n",
      "33    4\n",
      "34    6\n",
      "dtype: int32\n",
      "Kích thước của ser1:  (35,)\n",
      "5 dòng dữ liệu đầu tiên:\n",
      "0    4\n",
      "1    5\n",
      "2    6\n",
      "3    7\n",
      "4    4\n",
      "dtype: int32\n",
      "5 dòng dữ liệu cuối cùng:\n",
      "30    3\n",
      "31    9\n",
      "32    7\n",
      "33    4\n",
      "34    6\n",
      "dtype: int32\n"
     ]
    }
   ],
   "source": [
    "import numpy as np\n",
    "import pandas as pd\n",
    "\n",
    "# Sửa thành np.random.randint\n",
    "a = np.random.randint(1, 10, 35)\n",
    "\n",
    "# Tạo Series\n",
    "ser1 = pd.Series(a)\n",
    "\n",
    "# In Series\n",
    "print(ser1)\n",
    "\n",
    "# Cho biết kích thước (shape) của ser1\n",
    "print(\"Kích thước của ser1: \", ser1.shape)\n",
    "\n",
    "# In 5 dòng dữ liệu đầu tiên\n",
    "print(\"5 dòng dữ liệu đầu tiên:\")\n",
    "print(ser1.head())\n",
    "\n",
    "# In 5 dòng dữ liệu cuối cùng\n",
    "print(\"5 dòng dữ liệu cuối cùng:\")\n",
    "print(ser1.tail())"
   ]
  },
  {
   "cell_type": "code",
   "execution_count": 4,
   "metadata": {},
   "outputs": [
    {
     "name": "stdout",
     "output_type": "stream",
     "text": [
      "[4 5 6 7 4 8 8 9 6 4 6 9 2 9 6 2 2 1 3 9 6 5 6 1 7 4 4 8 2 8 3 9 7 4 6]\n"
     ]
    }
   ],
   "source": [
    "# Câu 1.2: In danh sách các giá trị của series ser1 \n",
    "print(ser1.values)\n",
    "\n"
   ]
  },
  {
   "cell_type": "code",
   "execution_count": 5,
   "metadata": {},
   "outputs": [
    {
     "name": "stdout",
     "output_type": "stream",
     "text": [
      "count    35.000000\n",
      "mean      5.428571\n",
      "std       2.488630\n",
      "min       1.000000\n",
      "25%       4.000000\n",
      "50%       6.000000\n",
      "75%       7.500000\n",
      "max       9.000000\n",
      "dtype: float64\n"
     ]
    }
   ],
   "source": [
    "# Câu 1.3: Cho biết thông tin thống kê chung của Series ser1\n",
    "print(ser1.describe())\n",
    "\n"
   ]
  },
  {
   "cell_type": "code",
   "execution_count": 6,
   "metadata": {},
   "outputs": [
    {
     "name": "stdout",
     "output_type": "stream",
     "text": [
      "0    6\n",
      "dtype: int32\n"
     ]
    }
   ],
   "source": [
    "# Câu 1.4: Cho biết phần tử có tần suất xuất hiện nhiều nhất trong Series ser1\n",
    "print(ser1.mode())\n",
    "\n"
   ]
  },
  {
   "cell_type": "code",
   "execution_count": 7,
   "metadata": {},
   "outputs": [
    {
     "name": "stdout",
     "output_type": "stream",
     "text": [
      "Các giá trị vừa chia hết cho 3 trong ser1:\n",
      "2     6\n",
      "7     9\n",
      "8     6\n",
      "10    6\n",
      "11    9\n",
      "13    9\n",
      "14    6\n",
      "18    3\n",
      "19    9\n",
      "20    6\n",
      "22    6\n",
      "30    3\n",
      "31    9\n",
      "34    6\n",
      "dtype: int32\n"
     ]
    }
   ],
   "source": [
    "# Câu 1.5:  Liệt kê các giá trị vừa chia hết cho 3 ở Series ser 1 \n",
    "gt = ser1[ser1 % 3 == 0]\n",
    "\n",
    "# In kết quả\n",
    "print(\"Các giá trị vừa chia hết cho 3 trong ser1:\")\n",
    "print(gt)\n"
   ]
  },
  {
   "cell_type": "markdown",
   "metadata": {},
   "source": [
    "## Assignment 2: Pandas"
   ]
  },
  {
   "cell_type": "markdown",
   "metadata": {},
   "source": [
    "Câu 2.1: Cho bảng dữ liệu như sau:\n",
    "<img src=\"data.png\" width=\"200px\">"
   ]
  },
  {
   "cell_type": "code",
   "execution_count": null,
   "metadata": {},
   "outputs": [],
   "source": [
    "# Trả lời câu 2.1:\n",
    "# Tạo DataFrame với tên df theo bảng dữ liệu ở câu 1 bằng cách dựa vào Dictionary và list labels.\n",
    "\n",
    "# Cho list labels như sau:\n",
    "import pandas as pd\n",
    "data = {\n",
    "    \"name\": [\"Anastasia\", \"Dima\", \"Katherine\", \"James\", \"Emily\", \"Michael\"],\n",
    "    \"score\": [6.0, 9.0, 7.0, 10.0, 6.0, 4.0],\n",
    "    \"attempts\": [1, 3, 2, 3, 2, 3],\n",
    "    \"qualify\": [\"yes\", \"no\", \"yes\", \"no\", \"no\", \"yes\"]\n",
    "}\n",
    "labels = [\"name\", \"score\", \"attempts\", \"qualify\"]\n",
    "df = pd.DataFrame(data, columns=labels,index=['a','b','c','d','e','f'])\n",
    "print (df)"
   ]
  },
  {
   "cell_type": "code",
   "execution_count": null,
   "metadata": {},
   "outputs": [],
   "source": [
    "# Xem kiểu dữ liệu của tất cả thuộc tính ở dataframe df\n",
    "print(\"Kiểu dữ liệu của tất cả thuộc tính:\")\n",
    "print(df.dtypes)\n"
   ]
  },
  {
   "cell_type": "code",
   "execution_count": 8,
   "metadata": {},
   "outputs": [],
   "source": [
    "# Câu 2.2: Tạo dataframe df1 từ df, chỉ chứa 2 cột là name và score\n",
    "\n",
    "# Xem kiểu dữ liệu và kích thước của df1\n",
    "\n",
    "# Hiển thị các dòng dữ liệu đầu tiên của df1\n"
   ]
  },
  {
   "cell_type": "code",
   "execution_count": 9,
   "metadata": {},
   "outputs": [],
   "source": [
    "# Câu 2.3: Hiển thị thông tin thống kê chung của tất cả các thuộc tính của dataframe df\n"
   ]
  },
  {
   "cell_type": "code",
   "execution_count": 10,
   "metadata": {},
   "outputs": [],
   "source": [
    "# Câu 2.4: Tạo dataframe df2 từ df, chỉ chứa 2 cột là name và score, và chỉ có các dòng 1, 3, 5\n",
    "\n",
    "# In nội dung của dataframe df4\n"
   ]
  },
  {
   "cell_type": "code",
   "execution_count": 11,
   "metadata": {},
   "outputs": [],
   "source": [
    "# Câu 2.5: Từ dataframe df, in các dòng có dữ liệu score bị null\n"
   ]
  },
  {
   "cell_type": "code",
   "execution_count": 12,
   "metadata": {},
   "outputs": [],
   "source": [
    "# Câu 2.6: Từ dataframe df, in các dòng có score > 5 và <=9\n"
   ]
  },
  {
   "cell_type": "code",
   "execution_count": 13,
   "metadata": {},
   "outputs": [],
   "source": [
    "# Câu 2.7: Cập nhật điểm (score) ở Dataframe df ở dòng 'e' thành 9\n"
   ]
  },
  {
   "cell_type": "code",
   "execution_count": 14,
   "metadata": {},
   "outputs": [],
   "source": [
    "# Câu 2.8: Cho biết điểm (score) nào có tần suất xuất hiện nhiều nhất trong df, và in ra những dòng có điểm là tần suất xuất hiện nhiều nhất \n"
   ]
  },
  {
   "cell_type": "code",
   "execution_count": 15,
   "metadata": {},
   "outputs": [],
   "source": [
    "# Câu 2.9: Thêm dòng l có nội dung như sau: ['Janny', 4, 2, 'yes'] vào df. \n",
    "\n",
    "# Hiển thị 5 dòng cuối cùng (tail) của df2.\n"
   ]
  },
  {
   "cell_type": "code",
   "execution_count": 16,
   "metadata": {},
   "outputs": [],
   "source": [
    "# Câu 2.10: Sắp xếp df tăng dần theo điểm (score)\n"
   ]
  },
  {
   "cell_type": "code",
   "execution_count": 17,
   "metadata": {},
   "outputs": [],
   "source": [
    "# Câu 2.11: Dựa vào dữ liệu của cột'score' của df,thêm cột results với giá trị như sau: nếu SV có điểm >=5 thì \"Đạt\" và \n",
    "# nếu SV có điểm <5 thì \"Không đạt\"\n",
    "\n",
    "# In nội dung của dataframe df\n"
   ]
  }
 ],
 "metadata": {
  "kernelspec": {
   "display_name": "Python 3",
   "language": "python",
   "name": "python3"
  },
  "language_info": {
   "codemirror_mode": {
    "name": "ipython",
    "version": 3
   },
   "file_extension": ".py",
   "mimetype": "text/x-python",
   "name": "python",
   "nbconvert_exporter": "python",
   "pygments_lexer": "ipython3",
   "version": "3.7.1"
  }
 },
 "nbformat": 4,
 "nbformat_minor": 2
}
