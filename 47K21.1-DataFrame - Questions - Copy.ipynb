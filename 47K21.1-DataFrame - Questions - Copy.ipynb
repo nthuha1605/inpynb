{
 "cells": [
  {
   "cell_type": "markdown",
   "metadata": {},
   "source": [
    "# Bài thực hành 3: Series và Data Frame"
   ]
  },
  {
   "cell_type": "markdown",
   "metadata": {},
   "source": [
    "## Assignment 1: Series"
   ]
  },
  {
   "cell_type": "code",
   "execution_count": 5,
   "metadata": {},
   "outputs": [
    {
     "name": "stdout",
     "output_type": "stream",
     "text": [
      "0     3\n",
      "1     4\n",
      "2     9\n",
      "3     6\n",
      "4     9\n",
      "5     8\n",
      "6     2\n",
      "7     2\n",
      "8     5\n",
      "9     8\n",
      "10    8\n",
      "11    8\n",
      "12    4\n",
      "13    8\n",
      "14    7\n",
      "15    8\n",
      "16    5\n",
      "17    9\n",
      "18    5\n",
      "19    4\n",
      "20    9\n",
      "21    7\n",
      "22    5\n",
      "23    9\n",
      "24    9\n",
      "25    1\n",
      "26    7\n",
      "27    5\n",
      "28    5\n",
      "29    5\n",
      "30    8\n",
      "31    8\n",
      "32    7\n",
      "33    4\n",
      "34    1\n",
      "dtype: int32\n",
      "Kích thước của ser1:  (35,)\n",
      "5 dòng dữ liệu đầu tiên:\n",
      "0    3\n",
      "1    4\n",
      "2    9\n",
      "3    6\n",
      "4    9\n",
      "dtype: int32\n",
      "5 dòng dữ liệu cuối cùng:\n",
      "30    8\n",
      "31    8\n",
      "32    7\n",
      "33    4\n",
      "34    1\n",
      "dtype: int32\n"
     ]
    }
   ],
   "source": [
    "import numpy as np\n",
    "import pandas as pd\n",
    "\n",
    "# Sửa thành np.random.randint\n",
    "a = np.random.randint(1, 10, 35)\n",
    "\n",
    "# Tạo Series\n",
    "ser1 = pd.Series(a)\n",
    "\n",
    "# In Series\n",
    "print(ser1)\n",
    "\n",
    "# Cho biết kích thước (shape) của ser1\n",
    "print(\"Kích thước của ser1: \", ser1.shape)\n",
    "\n",
    "# In 5 dòng dữ liệu đầu tiên\n",
    "print(\"5 dòng dữ liệu đầu tiên:\")\n",
    "print(ser1.head())\n",
    "\n",
    "# In 5 dòng dữ liệu cuối cùng\n",
    "print(\"5 dòng dữ liệu cuối cùng:\")\n",
    "print(ser1.tail())"
   ]
  },
  {
   "cell_type": "code",
   "execution_count": 6,
   "metadata": {},
   "outputs": [
    {
     "name": "stdout",
     "output_type": "stream",
     "text": [
      "[3 4 9 6 9 8 2 2 5 8 8 8 4 8 7 8 5 9 5 4 9 7 5 9 9 1 7 5 5 5 8 8 7 4 1]\n"
     ]
    }
   ],
   "source": [
    "# Câu 1.2: In danh sách các giá trị của series ser1 \n",
    "print(ser1.values)\n",
    "\n"
   ]
  },
  {
   "cell_type": "code",
   "execution_count": 7,
   "metadata": {},
   "outputs": [
    {
     "name": "stdout",
     "output_type": "stream",
     "text": [
      "count    35.000000\n",
      "mean      6.057143\n",
      "std       2.448804\n",
      "min       1.000000\n",
      "25%       4.500000\n",
      "50%       7.000000\n",
      "75%       8.000000\n",
      "max       9.000000\n",
      "dtype: float64\n"
     ]
    }
   ],
   "source": [
    "# Câu 1.3: Cho biết thông tin thống kê chung của Series ser1\n",
    "print(ser1.describe())\n",
    "\n"
   ]
  },
  {
   "cell_type": "code",
   "execution_count": 8,
   "metadata": {},
   "outputs": [
    {
     "name": "stdout",
     "output_type": "stream",
     "text": [
      "0    8\n",
      "dtype: int32\n"
     ]
    }
   ],
   "source": [
    "# Câu 1.4: Cho biết phần tử có tần suất xuất hiện nhiều nhất trong Series ser1\n",
    "print(ser1.mode())\n",
    "\n"
   ]
  },
  {
   "cell_type": "code",
   "execution_count": 9,
   "metadata": {},
   "outputs": [
    {
     "name": "stdout",
     "output_type": "stream",
     "text": [
      "Các giá trị vừa chia hết cho 3 trong ser1:\n",
      "0     3\n",
      "2     9\n",
      "3     6\n",
      "4     9\n",
      "17    9\n",
      "20    9\n",
      "23    9\n",
      "24    9\n",
      "dtype: int32\n"
     ]
    }
   ],
   "source": [
    "# Câu 1.5:  Liệt kê các giá trị vừa chia hết cho 3 ở Series ser 1 \n",
    "gt = ser1[ser1 % 3 == 0]\n",
    "\n",
    "# In kết quả\n",
    "print(\"Các giá trị vừa chia hết cho 3 trong ser1:\")\n",
    "print(gt)\n"
   ]
  },
  {
   "cell_type": "markdown",
   "metadata": {},
   "source": [
    "## Assignment 2: Pandas"
   ]
  },
  {
   "cell_type": "markdown",
   "metadata": {},
   "source": [
    "Câu 2.1: Cho bảng dữ liệu như sau:\n",
    "<img src=\"data.png\" width=\"200px\">"
   ]
  },
  {
   "cell_type": "code",
   "execution_count": 1,
   "metadata": {},
   "outputs": [
    {
     "name": "stdout",
     "output_type": "stream",
     "text": [
      "        name  score  attempts qualify\n",
      "a  Anastasia    6.0         1     yes\n",
      "b       Dima    9.0         3      no\n",
      "c  Katherine    7.0         2     yes\n",
      "d      James   10.0         3      no\n",
      "e      Emily    6.0         2      no\n",
      "f    Michael    4.0         3     yes\n"
     ]
    }
   ],
   "source": [
    "# Trả lời câu 2.1:\n",
    "# Tạo DataFrame với tên df theo bảng dữ liệu ở câu 1 bằng cách dựa vào Dictionary và list labels.\n",
    "\n",
    "# Cho list labels như sau:\n",
    "import pandas as pd\n",
    "data = {\n",
    "    \"name\": [\"Anastasia\", \"Dima\", \"Katherine\", \"James\", \"Emily\", \"Michael\"],\n",
    "    \"score\": [6.0, 9.0, 7.0, 10.0, 6.0, 4.0],\n",
    "    \"attempts\": [1, 3, 2, 3, 2, 3],\n",
    "    \"qualify\": [\"yes\", \"no\", \"yes\", \"no\", \"no\", \"yes\"]\n",
    "}\n",
    "labels = [\"name\", \"score\", \"attempts\", \"qualify\"]\n",
    "df = pd.DataFrame(data, columns=labels,index=['a','b','c','d','e','f'])\n",
    "print (df)"
   ]
  },
  {
   "cell_type": "code",
   "execution_count": 2,
   "metadata": {},
   "outputs": [
    {
     "name": "stdout",
     "output_type": "stream",
     "text": [
      "Kiểu dữ liệu của tất cả thuộc tính:\n",
      "name         object\n",
      "score       float64\n",
      "attempts      int64\n",
      "qualify      object\n",
      "dtype: object\n"
     ]
    }
   ],
   "source": [
    "# Xem kiểu dữ liệu của tất cả thuộc tính ở dataframe df\n",
    "print(\"Kiểu dữ liệu của tất cả thuộc tính:\")\n",
    "print(df.dtypes)\n"
   ]
  },
  {
   "cell_type": "code",
   "execution_count": 10,
   "metadata": {},
   "outputs": [
    {
     "name": "stdout",
     "output_type": "stream",
     "text": [
      "Kiểu dữ liệu của df1:\n",
      "name      object\n",
      "score    float64\n",
      "dtype: object\n",
      "Kích thước của df1: (6, 2)\n",
      "Các dòng dữ liệu đầu tiên của df1:\n",
      "        name  score\n",
      "a  Anastasia    6.0\n",
      "b       Dima    9.0\n",
      "c  Katherine    7.0\n",
      "d      James   10.0\n",
      "e      Emily    6.0\n"
     ]
    }
   ],
   "source": [
    "\n",
    "# Tạo DataFrame df1 từ df chỉ với các cột \"Name\" và \"Score\"\n",
    "df1 = df[['name', 'score']]\n",
    "\n",
    "# Xem kiểu dữ liệu của df1\n",
    "print(\"Kiểu dữ liệu của df1:\")\n",
    "print(df1.dtypes)\n",
    "\n",
    "# Xem kích thước của df1\n",
    "print(\"Kích thước của df1:\", df1.shape)\n",
    "\n",
    "# Hiển thị các dòng dữ liệu đầu tiên của df1\n",
    "print(\"Các dòng dữ liệu đầu tiên của df1:\")\n",
    "print(df1.head())\n"
   ]
  },
  {
   "cell_type": "code",
   "execution_count": 11,
   "metadata": {},
   "outputs": [
    {
     "name": "stdout",
     "output_type": "stream",
     "text": [
      "Thông tin thống kê chung của dataframe df:\n",
      "          score  attempts\n",
      "count   6.00000  6.000000\n",
      "mean    7.00000  2.333333\n",
      "std     2.19089  0.816497\n",
      "min     4.00000  1.000000\n",
      "25%     6.00000  2.000000\n",
      "50%     6.50000  2.500000\n",
      "75%     8.50000  3.000000\n",
      "max    10.00000  3.000000\n"
     ]
    }
   ],
   "source": [
    "# Câu 2.3: Hiển thị thông tin thống kê chung của tất cả các thuộc tính của dataframe df\n",
    "print(\"Thông tin thống kê chung của dataframe df:\")\n",
    "print(df.describe())"
   ]
  },
  {
   "cell_type": "code",
   "execution_count": 13,
   "metadata": {
    "scrolled": true
   },
   "outputs": [
    {
     "name": "stdout",
     "output_type": "stream",
     "text": [
      "Nội dung của dataframe df2:\n",
      "      name  score\n",
      "b     Dima    9.0\n",
      "d    James   10.0\n",
      "f  Michael    4.0\n"
     ]
    }
   ],
   "source": [
    "# Câu 2.4: Tạo dataframe df2 từ df, chỉ chứa 2 cột là name và score, và chỉ có các dòng 1, 3, 5\n",
    "\n",
    "# Tạo DataFrame df2 từ df chỉ với các cột \"Name\" và \"Score\" và các dòng 1, 3, 5\n",
    "df2 = df.iloc[[1, 3, 5], [0, 1]]\n",
    "\n",
    "# In nội dung của DataFrame df2\n",
    "print(\"Nội dung của dataframe df2:\")\n",
    "print(df2)"
   ]
  },
  {
   "cell_type": "code",
   "execution_count": 16,
   "metadata": {},
   "outputs": [
    {
     "name": "stdout",
     "output_type": "stream",
     "text": [
      "False\n"
     ]
    }
   ],
   "source": [
    "# Câu 2.5: Từ dataframe df, in các dòng có dữ liệu score bị null\n",
    "\n",
    "print(df.empty)\n"
   ]
  },
  {
   "cell_type": "code",
   "execution_count": 19,
   "metadata": {},
   "outputs": [
    {
     "name": "stdout",
     "output_type": "stream",
     "text": [
      "Các dòng có score > 5 và <= 9:\n",
      "        name  score  attempts qualify\n",
      "a  Anastasia    6.0         1     yes\n",
      "b       Dima    9.0         3      no\n",
      "c  Katherine    7.0         2     yes\n",
      "e      Emily    6.0         2      no\n"
     ]
    }
   ],
   "source": [
    "# Câu 2.6: Từ dataframe df, in các dòng có score > 5 và <=9\n",
    "# In các dòng có score > 5 và <= 9\n",
    "filter = df[(df['score'] > 5) & (df['score'] <= 9)]\n",
    "\n",
    "# In kết quả\n",
    "print(\"Các dòng có score > 5 và <= 9:\")\n",
    "print(filter)"
   ]
  },
  {
   "cell_type": "code",
   "execution_count": 20,
   "metadata": {},
   "outputs": [
    {
     "name": "stdout",
     "output_type": "stream",
     "text": [
      "DataFrame sau khi cập nhật:\n",
      "        name  score  attempts qualify\n",
      "a  Anastasia    6.0         1     yes\n",
      "b       Dima    9.0         3      no\n",
      "c  Katherine    7.0         2     yes\n",
      "d      James   10.0         3      no\n",
      "e      Emily    9.0         2      no\n",
      "f    Michael    4.0         3     yes\n"
     ]
    }
   ],
   "source": [
    "# Câu 2.7: Cập nhật điểm (score) ở Dataframe df ở dòng 'e' thành 9\n",
    "# Cập nhật điểm ở dòng 'e' thành 9\n",
    "df.loc['e', 'score'] = 9\n",
    "\n",
    "# In DataFrame sau khi cập nhật\n",
    "print(\"DataFrame sau khi cập nhật:\")\n",
    "print(df)"
   ]
  },
  {
   "cell_type": "code",
   "execution_count": 22,
   "metadata": {},
   "outputs": [
    {
     "name": "stdout",
     "output_type": "stream",
     "text": [
      "Điểm có tần suất xuất hiện nhiều nhất là: 9.0\n",
      "Những dòng có điểm là tần suất xuất hiện nhiều nhất:\n",
      "    name  score  attempts qualify\n",
      "b   Dima    9.0         3      no\n",
      "e  Emily    9.0         2      no\n"
     ]
    }
   ],
   "source": [
    "# Câu 2.8: Cho biết điểm (score) nào có tần suất xuất hiện nhiều nhất trong df, và in ra những dòng có điểm là tần suất xuất hiện nhiều nhất\n",
    "# Xác định điểm có tần suất xuất hiện nhiều nhất\n",
    "most_frequent_score = df['score'].mode().iloc[0]\n",
    "\n",
    "# In ra những dòng có điểm là tần suất xuất hiện nhiều nhất\n",
    "rows_with_most_frequent_score = df[df['score'] == most_frequent_score]\n",
    "\n",
    "# In kết quả\n",
    "print(\"Điểm có tần suất xuất hiện nhiều nhất là:\", most_frequent_score)\n",
    "print(\"Những dòng có điểm là tần suất xuất hiện nhiều nhất:\")\n",
    "print(rows_with_most_frequent_score)\n"
   ]
  },
  {
   "cell_type": "code",
   "execution_count": 23,
   "metadata": {},
   "outputs": [
    {
     "name": "stdout",
     "output_type": "stream",
     "text": [
      "5 dòng cuối cùng của df sau khi thêm:\n",
      "        name  score  attempts qualify\n",
      "c  Katherine    7.0         2     yes\n",
      "d      James   10.0         3      no\n",
      "e      Emily    9.0         2      no\n",
      "f    Michael    4.0         3     yes\n",
      "l      Janny    4.0         2     Yes\n"
     ]
    }
   ],
   "source": [
    "# Câu 2.9: Thêm dòng l có nội dung như sau: ['Janny', 4, 2, 'yes'] vào df. \n",
    "\n",
    "# Hiển thị 5 dòng cuối cùng (tail) của df2.\n",
    "# Thêm dòng mới vào DataFrame df\n",
    "df.loc['l'] = ['Janny', 4, 2, 'Yes']\n",
    "\n",
    "# Hiển thị 5 dòng cuối cùng của df\n",
    "print(\"5 dòng cuối cùng của df sau khi thêm:\")\n",
    "print(df.tail())\n"
   ]
  },
  {
   "cell_type": "code",
   "execution_count": 24,
   "metadata": {},
   "outputs": [
    {
     "name": "stdout",
     "output_type": "stream",
     "text": [
      "DataFrame sau khi sắp xếp tăng dần theo điểm:\n",
      "        name  score  attempts qualify\n",
      "f    Michael    4.0         3     yes\n",
      "l      Janny    4.0         2     Yes\n",
      "a  Anastasia    6.0         1     yes\n",
      "c  Katherine    7.0         2     yes\n",
      "b       Dima    9.0         3      no\n",
      "e      Emily    9.0         2      no\n",
      "d      James   10.0         3      no\n"
     ]
    }
   ],
   "source": [
    "# Câu 2.10: Sắp xếp df tăng dần theo điểm (score)\n",
    "# Sắp xếp df tăng dần theo điểm (score)\n",
    "df_sorted = df.sort_values(by='score')\n",
    "\n",
    "# In kết quả\n",
    "print(\"DataFrame sau khi sắp xếp tăng dần theo điểm:\")\n",
    "print(df_sorted)\n"
   ]
  },
  {
   "cell_type": "code",
   "execution_count": 26,
   "metadata": {},
   "outputs": [
    {
     "name": "stdout",
     "output_type": "stream",
     "text": [
      "DataFrame sau khi thêm cột 'results':\n",
      "        name  score  attempts qualify    results\n",
      "a  Anastasia    6.0         1     yes        Đạt\n",
      "b       Dima    9.0         3      no        Đạt\n",
      "c  Katherine    7.0         2     yes        Đạt\n",
      "d      James   10.0         3      no        Đạt\n",
      "e      Emily    9.0         2      no        Đạt\n",
      "f    Michael    4.0         3     yes  Không đạt\n",
      "l      Janny    4.0         2     Yes  Không đạt\n"
     ]
    }
   ],
   "source": [
    "# Câu 2.11: Dựa vào dữ liệu của cột'score' của df,thêm cột results với giá trị như sau: nếu SV có điểm >=5 thì \"Đạt\" và \n",
    "# nếu SV có điểm <5 thì \"Không đạt\"\n",
    "\n",
    "# In nội dung của dataframe df\n",
    "\n",
    "# Thêm cột \"results\" dựa vào điểm (score)\n",
    "df['results'] = df['core'].apply(lambda x: 'Đạt' if x >= 5 else 'Không đạt')\n",
    "\n",
    "# In nội dung của DataFrame df sau khi thêm cột \"results\"\n",
    "print(\"DataFrame sau khi thêm cột 'results':\")\n",
    "print(df)\n"
   ]
  },
  {
   "cell_type": "code",
   "execution_count": null,
   "metadata": {},
   "outputs": [],
   "source": []
  }
 ],
 "metadata": {
  "kernelspec": {
   "display_name": "Python 3",
   "language": "python",
   "name": "python3"
  },
  "language_info": {
   "codemirror_mode": {
    "name": "ipython",
    "version": 3
   },
   "file_extension": ".py",
   "mimetype": "text/x-python",
   "name": "python",
   "nbconvert_exporter": "python",
   "pygments_lexer": "ipython3",
   "version": "3.7.1"
  }
 },
 "nbformat": 4,
 "nbformat_minor": 2
}
