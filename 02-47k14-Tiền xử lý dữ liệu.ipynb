{
 "cells": [
  {
   "cell_type": "markdown",
   "metadata": {},
   "source": [
    "### Bài thực hành số 5: Tiền xử lý dữ liệu "
   ]
  },
  {
   "cell_type": "code",
   "execution_count": 4,
   "metadata": {},
   "outputs": [
    {
     "name": "stdout",
     "output_type": "stream",
     "text": [
      "Dữ liệu df có 74444 dòng và 13 cột.\n"
     ]
    }
   ],
   "source": [
    "# Câu 1: Đọc dữ liệu từ tập tin diemdh.csv vào dataframe với tên df. Tập fin diemdh.csv là điểm thi trung học phổ thông quốc gia.\n",
    "\n",
    "\n",
    "# Cho biết dataframe df có bao nhiêu dòng và bao nhiêu cột\n",
    "import pandas as pd\n",
    "df = pd.read_csv('diemdh.csv')\n",
    "so_dong, so_cot = df.shape\n",
    "print(\"Dữ liệu df có\", so_dong, \"dòng và\", so_cot, \"cột.\")\n"
   ]
  },
  {
   "cell_type": "code",
   "execution_count": 6,
   "metadata": {},
   "outputs": [
    {
     "name": "stdout",
     "output_type": "stream",
     "text": [
      "Dữ liệu không hợp lý trong môn Toán (toan):\n",
      "           sbd    yy  toan   van  khxh  khtn    ls    dl  gdcd    sh    vl  \\\n",
      "801    2000803  2002  -1.0  7.50 -1.00  8.17 -1.00 -1.00 -1.00  8.75  7.25   \n",
      "5358   2005362  2002  -1.0  6.00 -1.00  7.42 -1.00 -1.00 -1.00  4.75  9.25   \n",
      "6001   2006010  2002  -1.0  6.25 -1.00  7.17 -1.00 -1.00 -1.00  6.50  8.50   \n",
      "6078   2006087  2002  -1.0  7.00 -1.00  8.42 -1.00 -1.00 -1.00  8.00  8.75   \n",
      "6365   2006377  2002  -1.0  6.75 -1.00  8.00 -1.00 -1.00 -1.00  8.00  7.50   \n",
      "6448   2006460  2002  -1.0  6.75 -1.00  8.67 -1.00 -1.00 -1.00  9.50  6.50   \n",
      "12281  2012299  2002  -1.0 -1.00 -1.00 -1.00 -1.00  0.00 -1.00 -1.00 -1.00   \n",
      "23398  2023419  2002  -1.0  6.08 -1.00  7.08 -1.00 -1.00 -1.00  5.50  7.75   \n",
      "28449  2028472  2002  -1.0  7.00 -1.00  8.75 -1.00 -1.00 -1.00  6.75  9.50   \n",
      "28549  2028572  2002  -1.0  7.00 -1.00  8.25 -1.00 -1.00 -1.00  8.00  9.00   \n",
      "28839  2028862  2002  -1.0  8.75 -1.00  9.08 -1.00 -1.00 -1.00  9.00  8.50   \n",
      "31127  2031150  2001  -1.0 -1.00  0.00 -1.00  0.00  0.00  0.00 -1.00 -1.00   \n",
      "37260  2037287  2002  -1.0 -1.00  0.00 -1.00  0.00  0.00  0.00 -1.00 -1.00   \n",
      "41096  2041123  2002  -1.0  7.50 -1.00  7.83 -1.00 -1.00 -1.00  6.75  9.00   \n",
      "42361  2042389  2002  -1.0  7.00 -1.00  9.00 -1.00 -1.00 -1.00  9.75  7.25   \n",
      "42585  2042613  2002  -1.0  7.25 -1.00  8.50 -1.00 -1.00 -1.00  6.75  8.75   \n",
      "44971  2045002  2002  -1.0  6.25 -1.00  7.08 -1.00 -1.00 -1.00  7.50  4.25   \n",
      "46152  2046184  2000  -1.0  7.25 -1.00 -1.00  9.75  8.50 -1.00 -1.00 -1.00   \n",
      "46210  2046242  2000  -1.0  7.25 -1.00 -1.00 -1.00 -1.00 -1.00 -1.00 -1.00   \n",
      "46219  2046251  2001  -1.0  7.50 -1.00 -1.00  9.00  8.75 -1.00 -1.00 -1.00   \n",
      "46233  2046265  2001  -1.0  6.00  6.50 -1.00  5.25  7.50  6.75 -1.00 -1.00   \n",
      "46313  2046345  2001  -1.0  6.25 -1.00 -1.00 -1.00 -1.00 -1.00 -1.00 -1.00   \n",
      "46320  2046352  2000  -1.0  6.25  7.67 -1.00  6.75  7.50  8.75 -1.00 -1.00   \n",
      "46353  2046385  2001  -1.0  7.00 -1.00 -1.00 -1.00 -1.00 -1.00 -1.00 -1.00   \n",
      "46373  2046405  2001  -1.0  7.25  8.17 -1.00  9.00  8.25  7.25 -1.00 -1.00   \n",
      "46421  2046453  2000  -1.0  5.50 -1.00 -1.00  6.25  6.50 -1.00 -1.00 -1.00   \n",
      "46422  2046454  2001  -1.0  7.50 -1.00 -1.00 -1.00 -1.00 -1.00 -1.00 -1.00   \n",
      "46450  2046482  2000  -1.0  6.75 -1.00 -1.00  5.00 -1.00 -1.00 -1.00 -1.00   \n",
      "46453  2046486  2000  -1.0  6.25 -1.00 -1.00 -1.00 -1.00 -1.00 -1.00 -1.00   \n",
      "46459  2046492  2001  -1.0  5.25 -1.00 -1.00 -1.00 -1.00 -1.00 -1.00 -1.00   \n",
      "...        ...   ...   ...   ...   ...   ...   ...   ...   ...   ...   ...   \n",
      "67607  2067833  2001  -1.0  7.25 -1.00 -1.00  7.00  7.75 -1.00 -1.00 -1.00   \n",
      "67661  2067887  1994  -1.0  3.75 -1.00 -1.00 -1.00  4.50 -1.00 -1.00 -1.00   \n",
      "67669  2067895  1994  -1.0  5.00 -1.00 -1.00 -1.00  7.50 -1.00 -1.00 -1.00   \n",
      "67678  2067904  1990  -1.0  5.00 -1.00 -1.00  7.25  7.25 -1.00 -1.00 -1.00   \n",
      "67685  2067912  1992  -1.0  6.00 -1.00 -1.00 -1.00 -1.00 -1.00 -1.00 -1.00   \n",
      "67713  2067940  1997  -1.0  5.75 -1.00 -1.00 -1.00 -1.00 -1.00 -1.00 -1.00   \n",
      "67810  2068039  2001  -1.0  6.50 -1.00 -1.00 -1.00 -1.00 -1.00  4.00  4.75   \n",
      "67856  2068085  2001  -1.0  5.50  6.00 -1.00  3.75  6.75  7.50 -1.00 -1.00   \n",
      "69331  2069586  1991  -1.0  3.75 -1.00 -1.00 -1.00 -1.00 -1.00 -1.00 -1.00   \n",
      "69411  2069666  2002  -1.0  6.25 -1.00  6.08 -1.00 -1.00 -1.00  4.75  6.75   \n",
      "69439  2069694  2001  -1.0  3.00 -1.00 -1.00  3.00 -1.00 -1.00 -1.00 -1.00   \n",
      "69756  2070013  1996  -1.0  5.25 -1.00 -1.00  5.00  6.25 -1.00 -1.00 -1.00   \n",
      "69799  2070056  2000  -1.0  6.50  7.42 -1.00  6.50  7.25  8.50 -1.00 -1.00   \n",
      "69824  2070081  2001  -1.0  6.50 -1.00 -1.00  7.75  7.75 -1.00 -1.00 -1.00   \n",
      "69862  2070119  2001  -1.0  6.00 -1.00 -1.00 -1.00 -1.00 -1.00 -1.00 -1.00   \n",
      "70169  2070427  2001  -1.0  6.50 -1.00 -1.00  5.00  6.00 -1.00 -1.00 -1.00   \n",
      "70685  2070944  2000  -1.0  4.00 -1.00 -1.00 -1.00 -1.00 -1.00 -1.00 -1.00   \n",
      "72015  2072276  2001  -1.0  7.25  9.00 -1.00  9.50  8.50  9.00 -1.00 -1.00   \n",
      "72062  2072323  2002  -1.0  5.50 -1.00  7.83 -1.00 -1.00 -1.00  7.00  9.25   \n",
      "72143  2072404  2001  -1.0  6.50 -1.00 -1.00 -1.00 -1.00 -1.00 -1.00 -1.00   \n",
      "72193  2072454  2001  -1.0  6.50 -1.00 -1.00 -1.00 -1.00 -1.00 -1.00 -1.00   \n",
      "72327  2072590  2001  -1.0  7.00 -1.00 -1.00 -1.00 -1.00 -1.00 -1.00 -1.00   \n",
      "72401  2072664  2000  -1.0  5.50 -1.00 -1.00  9.00  8.50 -1.00 -1.00 -1.00   \n",
      "72497  2072761  2001  -1.0  6.00 -1.00 -1.00  8.75  8.00 -1.00 -1.00 -1.00   \n",
      "72704  2072969  2000  -1.0  5.50 -1.00 -1.00 -1.00  6.50 -1.00 -1.00 -1.00   \n",
      "72726  2072991  2002  -1.0  0.00 -1.00 -1.00 -1.00 -1.00 -1.00 -1.00 -1.00   \n",
      "73190  2073457  1998  -1.0  6.25 -1.00 -1.00 -1.00 -1.00 -1.00 -1.00 -1.00   \n",
      "73450  2073719  1984  -1.0  8.00 -1.00 -1.00  8.75  7.75 -1.00 -1.00 -1.00   \n",
      "73521  2073790  2002  -1.0  6.75 -1.00  8.25 -1.00 -1.00 -1.00  8.25  8.00   \n",
      "74231  2074505  2000  -1.0  5.08 -1.00 -1.00 -1.00  7.25 -1.00 -1.00 -1.00   \n",
      "\n",
      "         hh   ta  \n",
      "801    8.50  9.6  \n",
      "5358   8.25  6.6  \n",
      "6001   6.50  8.4  \n",
      "6078   8.50  8.6  \n",
      "6365   8.50 -1.0  \n",
      "6448  -1.00  8.8  \n",
      "12281 -1.00 -1.0  \n",
      "23398  8.00  7.0  \n",
      "28449 -1.00  7.6  \n",
      "28549  7.75  8.2  \n",
      "28839  9.75  7.4  \n",
      "31127 -1.00 -1.0  \n",
      "37260 -1.00 -1.0  \n",
      "41096  7.75  8.0  \n",
      "42361 -1.00  7.8  \n",
      "42585 -1.00  4.6  \n",
      "44971  9.50  3.8  \n",
      "46152 -1.00 -1.0  \n",
      "46210 -1.00  5.2  \n",
      "46219 -1.00 -1.0  \n",
      "46233 -1.00 -1.0  \n",
      "46313 -1.00 -1.0  \n",
      "46320 -1.00  8.6  \n",
      "46353 -1.00  8.8  \n",
      "46373 -1.00 -1.0  \n",
      "46421 -1.00 -1.0  \n",
      "46422 -1.00  8.8  \n",
      "46450 -1.00  5.8  \n",
      "46453 -1.00 -1.0  \n",
      "46459 -1.00 -1.0  \n",
      "...     ...  ...  \n",
      "67607 -1.00 -1.0  \n",
      "67661 -1.00  3.2  \n",
      "67669 -1.00  3.8  \n",
      "67678 -1.00 -1.0  \n",
      "67685 -1.00 -1.0  \n",
      "67713 -1.00 -1.0  \n",
      "67810 -1.00  3.8  \n",
      "67856 -1.00  4.0  \n",
      "69331 -1.00 -1.0  \n",
      "69411  6.75  6.4  \n",
      "69439 -1.00  3.0  \n",
      "69756 -1.00 -1.0  \n",
      "69799 -1.00  4.6  \n",
      "69824 -1.00 -1.0  \n",
      "69862 -1.00 -1.0  \n",
      "70169 -1.00 -1.0  \n",
      "70685 -1.00 -1.0  \n",
      "72015 -1.00  7.2  \n",
      "72062  7.25  9.2  \n",
      "72143 -1.00 -1.0  \n",
      "72193 -1.00 -1.0  \n",
      "72327 -1.00  6.0  \n",
      "72401 -1.00 -1.0  \n",
      "72497 -1.00 -1.0  \n",
      "72704 -1.00 -1.0  \n",
      "72726 -1.00 -1.0  \n",
      "73190 -1.00 -1.0  \n",
      "73450 -1.00 -1.0  \n",
      "73521  8.50  8.2  \n",
      "74231 -1.00 -1.0  \n",
      "\n",
      "[265 rows x 13 columns]\n",
      "\n",
      "Dữ liệu không hợp lý trong môn Văn (van):\n",
      "           sbd    yy  toan  van  khxh  khtn   ls   dl  gdcd    sh    vl    hh  \\\n",
      "12281  2012299  2002  -1.0 -1.0  -1.0 -1.00 -1.0  0.0  -1.0 -1.00 -1.00 -1.00   \n",
      "31127  2031150  2001  -1.0 -1.0   0.0 -1.00  0.0  0.0   0.0 -1.00 -1.00 -1.00   \n",
      "32679  2032704  2001   7.6 -1.0  -1.0 -1.00 -1.0 -1.0  -1.0 -1.00  6.75  7.25   \n",
      "32898  2032923  2001   7.6 -1.0  -1.0 -1.00 -1.0 -1.0  -1.0  6.75 -1.00  8.25   \n",
      "37260  2037287  2002  -1.0 -1.0   0.0 -1.00  0.0  0.0   0.0 -1.00 -1.00 -1.00   \n",
      "46164  2046196  2000   8.8 -1.0  -1.0 -1.00 -1.0 -1.0  -1.0  7.25 -1.00  7.50   \n",
      "46180  2046212  1986   8.8 -1.0  -1.0 -1.00 -1.0 -1.0  -1.0 -1.00  7.00 -1.00   \n",
      "46200  2046232  2001   8.6 -1.0  -1.0 -1.00 -1.0 -1.0  -1.0 -1.00  7.25 -1.00   \n",
      "46205  2046237  2001   9.0 -1.0  -1.0 -1.00 -1.0 -1.0  -1.0  9.00 -1.00  8.50   \n",
      "46216  2046248  2000   8.0 -1.0  -1.0 -1.00 -1.0 -1.0  -1.0  8.50 -1.00  7.00   \n",
      "46228  2046260  2001   9.2 -1.0  -1.0 -1.00 -1.0 -1.0  -1.0 -1.00  8.00 -1.00   \n",
      "46230  2046262  2001   8.8 -1.0  -1.0 -1.00 -1.0 -1.0  -1.0  7.75 -1.00  7.50   \n",
      "46231  2046263  2001   7.8 -1.0  -1.0 -1.00 -1.0 -1.0  -1.0  6.25 -1.00  7.00   \n",
      "46236  2046268  2001   8.6 -1.0  -1.0 -1.00 -1.0 -1.0  -1.0 -1.00  7.50  8.00   \n",
      "46243  2046275  1991   6.8 -1.0  -1.0 -1.00 -1.0 -1.0  -1.0 -1.00  5.75  5.25   \n",
      "46288  2046320  1999   2.0 -1.0  -1.0 -1.00 -1.0 -1.0  -1.0 -1.00  2.75 -1.00   \n",
      "46295  2046327  1996   8.0 -1.0  -1.0 -1.00 -1.0 -1.0  -1.0 -1.00  6.00 -1.00   \n",
      "46305  2046337  1997   7.8 -1.0  -1.0 -1.00 -1.0 -1.0  -1.0  7.75 -1.00  9.00   \n",
      "46311  2046343  1998   8.6 -1.0  -1.0 -1.00 -1.0 -1.0  -1.0 -1.00  8.25 -1.00   \n",
      "46314  2046346  1996   6.6 -1.0  -1.0 -1.00 -1.0 -1.0  -1.0 -1.00  5.50 -1.00   \n",
      "46321  2046353  2001   6.2 -1.0  -1.0 -1.00 -1.0 -1.0  -1.0  5.25 -1.00  6.25   \n",
      "46356  2046388  2001   8.2 -1.0  -1.0 -1.00 -1.0 -1.0  -1.0 -1.00  7.50 -1.00   \n",
      "46361  2046393  1999   8.8 -1.0  -1.0 -1.00 -1.0 -1.0  -1.0 -1.00  8.00  8.00   \n",
      "46366  2046398  2001   8.6 -1.0  -1.0 -1.00 -1.0 -1.0  -1.0 -1.00 -1.00 -1.00   \n",
      "46375  2046407  1999   6.8 -1.0  -1.0 -1.00 -1.0 -1.0  -1.0 -1.00  6.75  6.50   \n",
      "46382  2046414  2000   4.0 -1.0  -1.0 -1.00 -1.0 -1.0  -1.0 -1.00  2.25  3.75   \n",
      "46384  2046416  1991   6.6 -1.0  -1.0 -1.00 -1.0 -1.0  -1.0 -1.00  7.25  2.50   \n",
      "46388  2046420  2000   8.8 -1.0  -1.0 -1.00 -1.0 -1.0  -1.0  7.25 -1.00  8.25   \n",
      "46400  2046432  2001   7.0 -1.0  -1.0 -1.00 -1.0 -1.0  -1.0  5.75 -1.00  5.00   \n",
      "46402  2046434  2001   7.8 -1.0  -1.0  6.25 -1.0 -1.0  -1.0  4.00  8.25  6.50   \n",
      "...        ...   ...   ...  ...   ...   ...  ...  ...   ...   ...   ...   ...   \n",
      "73846  2074116  1991   6.6 -1.0  -1.0 -1.00 -1.0 -1.0  -1.0  7.00 -1.00  6.75   \n",
      "73894  2074165  2001   8.2 -1.0  -1.0 -1.00 -1.0 -1.0  -1.0 -1.00  8.50 -1.00   \n",
      "73896  2074167  2001   7.8 -1.0  -1.0 -1.00 -1.0 -1.0  -1.0 -1.00 -1.00  7.25   \n",
      "73910  2074181  2001   9.2 -1.0  -1.0 -1.00 -1.0 -1.0  -1.0  8.25 -1.00  9.00   \n",
      "73915  2074186  2001   7.0 -1.0  -1.0  5.42 -1.0 -1.0  -1.0  6.25  3.50  6.50   \n",
      "73921  2074192  1999   8.8 -1.0  -1.0 -1.00 -1.0 -1.0  -1.0 -1.00  5.50 -1.00   \n",
      "73922  2074193  1999   6.0 -1.0  -1.0 -1.00 -1.0 -1.0  -1.0 -1.00  5.50  7.25   \n",
      "73973  2074244  1996   9.0 -1.0  -1.0 -1.00 -1.0 -1.0  -1.0 -1.00  6.75  8.25   \n",
      "74020  2074293  1999   8.4 -1.0  -1.0  5.75 -1.0 -1.0  -1.0  6.00  3.75  7.50   \n",
      "74037  2074310  2001   8.8 -1.0  -1.0 -1.00 -1.0 -1.0  -1.0  7.75 -1.00  7.25   \n",
      "74045  2074318  2001   9.0 -1.0  -1.0 -1.00 -1.0 -1.0  -1.0  8.25 -1.00  9.25   \n",
      "74059  2074332  2001   8.6 -1.0  -1.0  7.17 -1.0 -1.0  -1.0  9.00  3.75  8.75   \n",
      "74128  2074402  2000   8.8 -1.0  -1.0 -1.00 -1.0 -1.0  -1.0  9.25 -1.00  7.75   \n",
      "74164  2074438  2001   8.4 -1.0  -1.0 -1.00 -1.0 -1.0  -1.0  9.00 -1.00  9.25   \n",
      "74183  2074457  1997   8.8 -1.0  -1.0 -1.00 -1.0 -1.0  -1.0 -1.00  7.50  9.50   \n",
      "74205  2074479  1984   6.4 -1.0  -1.0 -1.00 -1.0 -1.0  -1.0  6.75 -1.00  7.00   \n",
      "74225  2074499  2001   7.6 -1.0  -1.0 -1.00 -1.0 -1.0  -1.0  7.25 -1.00  7.75   \n",
      "74258  2074532  2001   9.0 -1.0  -1.0  6.17 -1.0 -1.0  -1.0  2.00  8.50  8.00   \n",
      "74278  2074552  2001   8.2 -1.0  -1.0 -1.00 -1.0 -1.0  -1.0  7.50 -1.00  8.50   \n",
      "74300  2074574  2000   9.4 -1.0  -1.0  6.67 -1.0 -1.0  -1.0  8.00  3.75  8.25   \n",
      "74333  2074608  2001   8.8 -1.0  -1.0 -1.00 -1.0 -1.0  -1.0  6.75 -1.00  8.25   \n",
      "74347  2074622  1992   7.6 -1.0  -1.0 -1.00 -1.0 -1.0  -1.0  7.00 -1.00  8.25   \n",
      "74374  2074649  2001   9.0 -1.0  -1.0 -1.00 -1.0 -1.0  -1.0 -1.00  8.50 -1.00   \n",
      "74397  2074672  2001   7.0 -1.0  -1.0 -1.00 -1.0 -1.0  -1.0  7.25 -1.00  6.25   \n",
      "74407  2074682  2001   9.2 -1.0  -1.0 -1.00 -1.0 -1.0  -1.0 -1.00  8.25  4.25   \n",
      "74414  2074689  2000   7.4 -1.0  -1.0 -1.00 -1.0 -1.0  -1.0  7.75 -1.00  7.00   \n",
      "74416  2074691  2001   8.6 -1.0  -1.0 -1.00 -1.0 -1.0  -1.0 -1.00  7.75  7.00   \n",
      "74430  2074705  2001   9.0 -1.0  -1.0  4.75 -1.0 -1.0  -1.0  3.25  7.50  3.50   \n",
      "74432  2074707  2000   9.0 -1.0  -1.0 -1.00 -1.0 -1.0  -1.0  6.50 -1.00  7.25   \n",
      "74436  2074711  2000   8.8 -1.0  -1.0 -1.00 -1.0 -1.0  -1.0 -1.00  7.50 -1.00   \n",
      "\n",
      "        ta  \n",
      "12281 -1.0  \n",
      "31127 -1.0  \n",
      "32679  4.8  \n",
      "32898 -1.0  \n",
      "37260 -1.0  \n",
      "46164 -1.0  \n",
      "46180  5.4  \n",
      "46200  5.6  \n",
      "46205 -1.0  \n",
      "46216 -1.0  \n",
      "46228  6.8  \n",
      "46230 -1.0  \n",
      "46231 -1.0  \n",
      "46236 -1.0  \n",
      "46243  8.0  \n",
      "46288  6.4  \n",
      "46295  7.6  \n",
      "46305 -1.0  \n",
      "46311  6.8  \n",
      "46314 -1.0  \n",
      "46321 -1.0  \n",
      "46356  6.8  \n",
      "46361 -1.0  \n",
      "46366  9.2  \n",
      "46375 -1.0  \n",
      "46382 -1.0  \n",
      "46384 -1.0  \n",
      "46388 -1.0  \n",
      "46400 -1.0  \n",
      "46402 -1.0  \n",
      "...    ...  \n",
      "73846  5.6  \n",
      "73894  8.2  \n",
      "73896  5.4  \n",
      "73910  6.4  \n",
      "73915  5.4  \n",
      "73921  6.4  \n",
      "73922 -1.0  \n",
      "73973 -1.0  \n",
      "74020 -1.0  \n",
      "74037 -1.0  \n",
      "74045 -1.0  \n",
      "74059 -1.0  \n",
      "74128 -1.0  \n",
      "74164 -1.0  \n",
      "74183 -1.0  \n",
      "74205 -1.0  \n",
      "74225 -1.0  \n",
      "74258 -1.0  \n",
      "74278 -1.0  \n",
      "74300 -1.0  \n",
      "74333 -1.0  \n",
      "74347 -1.0  \n",
      "74374  9.0  \n",
      "74397  6.8  \n",
      "74407  8.8  \n",
      "74414 -1.0  \n",
      "74416 -1.0  \n",
      "74430  8.6  \n",
      "74432 -1.0  \n",
      "74436  9.8  \n",
      "\n",
      "[1802 rows x 13 columns]\n",
      "\n",
      "Dữ liệu không hợp lý trong môn Tiếng Anh (ta):\n",
      "           sbd    yy  toan   van  khxh  khtn    ls    dl  gdcd    sh    vl  \\\n",
      "5      2000006  2002   6.8  7.50  7.58 -1.00  6.75  7.50  8.50 -1.00 -1.00   \n",
      "29     2000030  2002   8.2  7.50 -1.00  7.92 -1.00 -1.00 -1.00  7.50  7.75   \n",
      "33     2000034  2002   7.8  6.50 -1.00  5.92 -1.00 -1.00 -1.00  3.00  7.50   \n",
      "48     2000049  2002   7.8  8.25  7.42 -1.00  6.25  6.75  9.25 -1.00 -1.00   \n",
      "102    2000103  2002   8.2  6.50  7.42 -1.00  7.50  6.75  8.00 -1.00 -1.00   \n",
      "122    2000123  2002   5.6  6.75  6.75 -1.00  5.00  7.25  8.00 -1.00 -1.00   \n",
      "123    2000124  2002   8.4  7.00 -1.00  4.67 -1.00 -1.00 -1.00  4.00  3.75   \n",
      "125    2000126  2002   8.0  7.50 -1.00  5.58 -1.00 -1.00 -1.00  4.75  6.75   \n",
      "172    2000173  2002   8.8  6.75 -1.00  7.75 -1.00 -1.00 -1.00  7.00  8.00   \n",
      "215    2000216  2002   9.2  6.75 -1.00  7.25 -1.00 -1.00 -1.00  5.50  7.75   \n",
      "302    2000303  2002   7.6  7.50 -1.00  5.17 -1.00 -1.00 -1.00  4.50  5.00   \n",
      "375    2000376  2002   9.0  6.50 -1.00  7.25 -1.00 -1.00 -1.00  6.00  7.50   \n",
      "423    2000424  2002   7.8  8.00  7.67 -1.00  7.00  6.75  9.25 -1.00 -1.00   \n",
      "437    2000438  2002   7.4  7.00  6.17 -1.00  5.50  5.25  7.75 -1.00 -1.00   \n",
      "472    2000473  2002   7.2  8.00  6.67 -1.00  4.75  6.75  8.50 -1.00 -1.00   \n",
      "521    2000523  2002   7.4  7.75  6.58 -1.00  5.00  6.25  8.50 -1.00 -1.00   \n",
      "547    2000549  2002   7.0  7.00 -1.00  6.00 -1.00 -1.00 -1.00  6.00  6.25   \n",
      "580    2000582  2002   7.6  8.50  6.75 -1.00  5.50  6.25  8.50 -1.00 -1.00   \n",
      "679    2000681  2002   8.2  7.50 -1.00  6.75 -1.00 -1.00 -1.00  6.25  7.25   \n",
      "735    2000737  2002   8.4  6.50  6.00 -1.00  6.00  5.50  6.50 -1.00 -1.00   \n",
      "740    2000742  2002   5.8  6.75  6.50 -1.00  4.50  7.75  7.25 -1.00 -1.00   \n",
      "745    2000747  2002   5.2  7.25  5.75 -1.00  4.75  4.25  8.25 -1.00 -1.00   \n",
      "749    2000751  2002   8.8  8.25 -1.00  6.08 -1.00 -1.00 -1.00  5.75  5.75   \n",
      "776    2000778  2002   8.4  7.00  7.83 -1.00  7.75  7.25  8.50 -1.00 -1.00   \n",
      "781    2000783  2002   8.2  7.75  8.50 -1.00  9.00  7.50  9.00 -1.00 -1.00   \n",
      "902    2000904  2002   8.6  7.00 -1.00  6.83 -1.00 -1.00 -1.00  7.00  5.50   \n",
      "912    2000914  2002   8.6  7.75  6.92 -1.00  4.75  7.75  8.25 -1.00 -1.00   \n",
      "914    2000916  2002   8.4  7.75  7.08 -1.00  7.00  6.50  7.75 -1.00 -1.00   \n",
      "1121   2001123  2002   7.6  6.25  7.83 -1.00  7.50  7.00  9.00 -1.00 -1.00   \n",
      "1208   2001210  2002   8.8  7.00 -1.00  6.50 -1.00 -1.00 -1.00  6.00  6.50   \n",
      "...        ...   ...   ...   ...   ...   ...   ...   ...   ...   ...   ...   \n",
      "74313  2074587  2002   6.0  6.50 -1.00  5.58 -1.00 -1.00 -1.00  5.25  5.25   \n",
      "74318  2074592  2002   7.0  6.25 -1.00  5.75 -1.00 -1.00 -1.00  5.75  5.00   \n",
      "74327  2074601  1997   8.0  6.25 -1.00  6.75 -1.00 -1.00 -1.00  6.25  6.25   \n",
      "74333  2074608  2001   8.8 -1.00 -1.00 -1.00 -1.00 -1.00 -1.00  6.75 -1.00   \n",
      "74339  2074614  2002   4.6  7.00 -1.00  5.25 -1.00 -1.00 -1.00  5.75  4.25   \n",
      "74347  2074622  1992   7.6 -1.00 -1.00 -1.00 -1.00 -1.00 -1.00  7.00 -1.00   \n",
      "74349  2074624  2002   7.2  7.25 -1.00  6.50 -1.00 -1.00 -1.00  6.50  6.00   \n",
      "74351  2074626  2002   7.6  6.50 -1.00  5.92 -1.00 -1.00 -1.00  5.75  6.25   \n",
      "74356  2074631  2002   5.8  7.50 -1.00  5.58 -1.00 -1.00 -1.00  6.50  4.75   \n",
      "74364  2074639  2001   7.4  6.50 -1.00  6.00 -1.00 -1.00 -1.00  5.00  6.25   \n",
      "74365  2074640  2001   6.6  6.50 -1.00 -1.00  6.50  7.25 -1.00 -1.00 -1.00   \n",
      "74366  2074641  2002   6.4  6.00 -1.00 -1.00  4.50  7.00 -1.00 -1.00 -1.00   \n",
      "74375  2074650  2002   6.4  5.00 -1.00 -1.00  7.25  6.75 -1.00 -1.00 -1.00   \n",
      "74379  2074654  2002   6.8  6.42 -1.00  5.25 -1.00 -1.00 -1.00  4.25  6.00   \n",
      "74381  2074656  2000   6.4  5.75 -1.00  5.00 -1.00 -1.00 -1.00  5.25  5.25   \n",
      "74386  2074661  2000   5.2  5.16 -1.00  5.75 -1.00 -1.00 -1.00  6.00  5.00   \n",
      "74391  2074666  2002   9.2  7.50 -1.00  8.25 -1.00 -1.00 -1.00  7.75  8.50   \n",
      "74396  2074671  2001   8.0  4.25 -1.00  7.08 -1.00 -1.00 -1.00  7.00  7.00   \n",
      "74402  2074677  2002   6.8  7.00 -1.00 -1.00  6.00  8.75 -1.00 -1.00 -1.00   \n",
      "74408  2074683  2001   6.6  6.50 -1.00 -1.00  5.25  7.25 -1.00 -1.00 -1.00   \n",
      "74409  2074684  2002   5.4  7.00 -1.00 -1.00  5.50  6.25 -1.00 -1.00 -1.00   \n",
      "74414  2074689  2000   7.4 -1.00 -1.00 -1.00 -1.00 -1.00 -1.00  7.75 -1.00   \n",
      "74416  2074691  2001   8.6 -1.00 -1.00 -1.00 -1.00 -1.00 -1.00 -1.00  7.75   \n",
      "74417  2074692  2002   5.2  7.00 -1.00 -1.00  4.00  6.75 -1.00 -1.00 -1.00   \n",
      "74418  2074693  2002   6.8  7.25 -1.00  5.50 -1.00 -1.00 -1.00  5.50  5.50   \n",
      "74423  2074698  2002   4.2  7.00 -1.00 -1.00  5.50  5.75 -1.00 -1.00 -1.00   \n",
      "74432  2074707  2000   9.0 -1.00 -1.00 -1.00 -1.00 -1.00 -1.00  6.50 -1.00   \n",
      "74433  2074708  2002   7.6  7.25 -1.00 -1.00  7.00  7.50 -1.00 -1.00 -1.00   \n",
      "74439  2074714  2002   5.4  5.92 -1.00  4.67 -1.00 -1.00 -1.00  5.50  3.50   \n",
      "74443  2074718  2002   5.6  6.50 -1.00 -1.00  6.50  7.25 -1.00 -1.00 -1.00   \n",
      "\n",
      "         hh   ta  \n",
      "5     -1.00 -1.0  \n",
      "29     8.50 -1.0  \n",
      "33     7.25 -1.0  \n",
      "48    -1.00 -1.0  \n",
      "102   -1.00 -1.0  \n",
      "122   -1.00 -1.0  \n",
      "123    6.25 -1.0  \n",
      "125    5.25 -1.0  \n",
      "172    8.25 -1.0  \n",
      "215    8.50 -1.0  \n",
      "302    6.00 -1.0  \n",
      "375    8.25 -1.0  \n",
      "423   -1.00 -1.0  \n",
      "437   -1.00 -1.0  \n",
      "472   -1.00 -1.0  \n",
      "521   -1.00 -1.0  \n",
      "547    5.75 -1.0  \n",
      "580   -1.00 -1.0  \n",
      "679    6.75 -1.0  \n",
      "735   -1.00 -1.0  \n",
      "740   -1.00 -1.0  \n",
      "745   -1.00 -1.0  \n",
      "749    6.75 -1.0  \n",
      "776   -1.00 -1.0  \n",
      "781   -1.00 -1.0  \n",
      "902    8.00 -1.0  \n",
      "912   -1.00 -1.0  \n",
      "914   -1.00 -1.0  \n",
      "1121  -1.00 -1.0  \n",
      "1208   7.00 -1.0  \n",
      "...     ...  ...  \n",
      "74313  6.25 -1.0  \n",
      "74318  6.50 -1.0  \n",
      "74327  7.75 -1.0  \n",
      "74333  8.25 -1.0  \n",
      "74339  5.75 -1.0  \n",
      "74347  8.25 -1.0  \n",
      "74349  7.00 -1.0  \n",
      "74351  5.75 -1.0  \n",
      "74356  5.50 -1.0  \n",
      "74364  6.75 -1.0  \n",
      "74365 -1.00 -1.0  \n",
      "74366 -1.00 -1.0  \n",
      "74375 -1.00 -1.0  \n",
      "74379  5.50 -1.0  \n",
      "74381  4.50 -1.0  \n",
      "74386  6.25 -1.0  \n",
      "74391  8.50 -1.0  \n",
      "74396  7.25 -1.0  \n",
      "74402 -1.00 -1.0  \n",
      "74408 -1.00 -1.0  \n",
      "74409 -1.00 -1.0  \n",
      "74414  7.00 -1.0  \n",
      "74416  7.00 -1.0  \n",
      "74417 -1.00 -1.0  \n",
      "74418  5.50 -1.0  \n",
      "74423 -1.00 -1.0  \n",
      "74432  7.25 -1.0  \n",
      "74433 -1.00 -1.0  \n",
      "74439  5.00 -1.0  \n",
      "74443 -1.00 -1.0  \n",
      "\n",
      "[8709 rows x 13 columns]\n"
     ]
    }
   ],
   "source": [
    "# Câu 2: Dựa vào dataframe df, hãy kiểm tra dữ liệu điểm môn toán (toan), môn văn (van) và môn tiếng Anh (ta)\n",
    "# có dữ liệu không hợp lí không. Dữ liệu không hợp lí là giá trị Null hoặc giá trị không nằm từ 0 đến 10.\n",
    "# Kiểm tra dữ liệu không hợp lý trong môn Toán (toan)\n",
    "toan_khong_hop_li = df[(df['toan'].isnull()) | (df['toan'] < 0) | (df['toan'] > 10)]\n",
    "if not toan_khong_hop_li.empty:\n",
    "    print(\"Dữ liệu không hợp lý trong môn Toán (toan):\")\n",
    "    print(toan_khong_hop_li)\n",
    "\n",
    "# Kiểm tra dữ liệu không hợp lý trong môn Văn (van)\n",
    "van_khong_hop_li = df[(df['van'].isnull()) | (df['van'] < 0) | (df['van'] > 10)]\n",
    "if not van_khong_hop_li.empty:\n",
    "    print(\"\\nDữ liệu không hợp lý trong môn Văn (van):\")\n",
    "    print(van_khong_hop_li)\n",
    "\n",
    "# Kiểm tra dữ liệu không hợp lý trong môn Tiếng Anh (ta)\n",
    "ta_khong_hop_li = df[(df['ta'].isnull()) | (df['ta'] < 0) | (df['ta'] > 10)]\n",
    "if not ta_khong_hop_li.empty:\n",
    "    print(\"\\nDữ liệu không hợp lý trong môn Tiếng Anh (ta):\")\n",
    "    print(ta_khong_hop_li)\n"
   ]
  },
  {
   "cell_type": "code",
   "execution_count": 8,
   "metadata": {},
   "outputs": [
    {
     "name": "stdout",
     "output_type": "stream",
     "text": [
      "DataFrame df_tva có 65049 dòng và 4 cột.\n"
     ]
    }
   ],
   "source": [
    "# Câu 3: Tạo ra dataframe mới có tên là df_tva, df_tva bao gồm các cột số báo danh (Sbd), toán, văn, anh văn\n",
    "# và chỉ bao gồm các giá trị nằm từ 0 đến 10.\n",
    "\n",
    "# Xem dataframe df_tva có bao nhiêu dòng và bao nhiêu cột\n",
    "\n",
    "import pandas as pd\n",
    "df_tva = df.loc[(df['toan'].between(0, 10, inclusive=True)) & \n",
    "                (df['van'].between(0, 10, inclusive=True)) & \n",
    "                (df['ta'].between(0, 10, inclusive=True)), \n",
    "                ['Sbd', 'toan', 'van', 'ta']]\n",
    "so_dong_df_tva, so_cot_df_tva = df_tva.shape\n",
    "print(\"DataFrame df_tva có\", so_dong_df_tva, \"dòng và\", so_cot_df_tva, \"cột.\")"
   ]
  },
  {
   "cell_type": "code",
   "execution_count": 31,
   "metadata": {},
   "outputs": [
    {
     "data": {
      "image/png": "[encoded data removed]",
      "text/plain": [
       "<Figure size 432x288 with 1 Axes>"
      ]
     },
     "metadata": {},
     "output_type": "display_data"
    }
   ],
   "source": [
    "# Câu 4: Dựa vào dataframe df_tva, Vẽ đồ thị về phân phối của điểm môn toán\n",
    "import numpy as np\n",
    "from scipy.stats import norm\n",
    "mean, std = norm.fit(df_tva.toan)\n",
    "plt.figure(figsize=(6, 4))\n",
    "plt.hist(df_tva.toan, bins=10, density=True, alpha=0.8, color='b', edgecolor='k')\n",
    "xmin, xmax = plt.xlim()\n",
    "x = np.linspace(xmin, xmax, 100)\n",
    "p = norm.pdf(x, mean, std)\n",
    "plt.plot(x, p, 'k', linewidth=2)\n",
    "plt.title('Phân phối điểm môn toán')\n",
    "plt.xlabel('Điểm')\n",
    "plt.ylabel('Mật độ xác suất')\n",
    "plt.show()"
   ]
  },
  {
   "cell_type": "code",
   "execution_count": 12,
   "metadata": {},
   "outputs": [
    {
     "name": "stdout",
     "output_type": "stream",
     "text": [
      "DataFrame df_toan_std có 46250 dòng và 4 cột.\n"
     ]
    }
   ],
   "source": [
    "# Câu 5: Loại bỏ các outliers của điểm môn toán bằng 1 độ lệch chuẩn và lưu kết quả vào một dataframe có tên df_toan_std\n",
    "\n",
    "# Xem Dataframe df_toan_std có bao nhiều và bao nhiêu cột\n",
    "mean_toan = df_tva['toan'].mean()\n",
    "std_toan = df_tva['toan'].std()\n",
    "df_toan_std = df_tva[(df_tva['toan'] >= mean_toan - std_toan) & (df_tva['toan'] <= mean_toan + std_toan)]\n",
    "so_dong_df_toan_std, so_cot_df_toan_std = df_toan_std.shape\n",
    "print(\"DataFrame df_toan_std có\", so_dong_df_toan_std, \"dòng và\", so_cot_df_toan_std, \"cột.\")\n"
   ]
  },
  {
   "cell_type": "code",
   "execution_count": 16,
   "metadata": {},
   "outputs": [
    {
     "data": {
      "image/png": "[encoded data removed]",
      "text/plain": [
       "<Figure size 576x432 with 1 Axes>"
      ]
     },
     "metadata": {},
     "output_type": "display_data"
    }
   ],
   "source": [
    "# Câu 6: Vẽ đồ thị về phân phối của môn toán sau khi loại bỏ các outliers bằng 1 độ lệch chuẩn\n",
    "import seaborn as sns\n",
    "plt.figure(figsize=(8, 6))\n",
    "sns.distplot(df_toan_std['toan'], kde=True, color='skyblue', hist_kws=dict(edgecolor=\"black\", linewidth=1))\n",
    "plt.title('Phân phối điểm môn Toán sau khi loại bỏ outliers')\n",
    "plt.xlabel('Điểm')\n",
    "plt.ylabel('Tần suất')\n",
    "plt.grid(True)\n",
    "plt.show()"
   ]
  },
  {
   "cell_type": "code",
   "execution_count": 17,
   "metadata": {},
   "outputs": [
    {
     "data": {
      "image/png": "[encoded data removed]",
      "text/plain": [
       "<Figure size 576x432 with 1 Axes>"
      ]
     },
     "metadata": {},
     "output_type": "display_data"
    }
   ],
   "source": [
    "# Câu 7: Vẽ đồ thị phân phối điểm môn toán dựa vào zscore\n",
    "import seaborn as sns\n",
    "from scipy import stats\n",
    "z_scores = stats.zscore(df_tva['toan'])\n",
    "plt.figure(figsize=(8, 6))\n",
    "sns.distplot(z_scores, kde=True, color='skyblue', hist_kws=dict(edgecolor=\"black\", linewidth=1))\n",
    "plt.title('Phân phối điểm môn Toán dựa vào z-score')\n",
    "plt.xlabel('Z-score')\n",
    "plt.ylabel('Tần suất')\n",
    "plt.grid(True)\n",
    "plt.show()"
   ]
  },
  {
   "cell_type": "code",
   "execution_count": 18,
   "metadata": {},
   "outputs": [
    {
     "name": "stdout",
     "output_type": "stream",
     "text": [
      "DataFrame df_toan_std có 46250 dòng và 4 cột.\n"
     ]
    }
   ],
   "source": [
    "# Câu 8: Loại bỏ các outliers của điểm môn toán bằng 1 độ lệch chuẩn dựa vào zscore\n",
    "from scipy import stats\n",
    "z_scores = stats.zscore(df_tva['toan'])\n",
    "df_toan_std = df_tva[(z_scores > -1) & (z_scores < 1)]\n",
    "print(\"DataFrame df_toan_std có\", len(df_toan_std), \"dòng và\", len(df_toan_std.columns), \"cột.\")"
   ]
  },
  {
   "cell_type": "code",
   "execution_count": 21,
   "metadata": {},
   "outputs": [
    {
     "data": {
      "image/png": "[encoded data removed]",
      "text/plain": [
       "<Figure size 576x432 with 1 Axes>"
      ]
     },
     "metadata": {},
     "output_type": "display_data"
    }
   ],
   "source": [
    "# Câu 9: Vẽ đồ thị về phân phối của môn toán sau khi loại bỏ các outliers bằng 1 độ lệch chuẩn dựa vào zscore\n",
    "import seaborn as sns\n",
    "plt.figure(figsize=(8, 6))\n",
    "sns.distplot(df_toan_std['toan'], kde=True, color='skyblue', hist_kws=dict(edgecolor=\"black\", linewidth=1))\n",
    "plt.title('Phân phối điểm môn Toán sau khi loại bỏ outliers dựa vào z-score')\n",
    "plt.xlabel('Điểm')\n",
    "plt.ylabel('Tần suất')\n",
    "plt.grid(True)\n",
    "plt.show()"
   ]
  },
  {
   "cell_type": "code",
   "execution_count": 22,
   "metadata": {},
   "outputs": [
    {
     "data": {
      "image/png": "[encoded data removed]",
      "text/plain": [
       "<Figure size 576x432 with 1 Axes>"
      ]
     },
     "metadata": {},
     "output_type": "display_data"
    }
   ],
   "source": [
    "# Câu 10: Vẽ đồ thị boxplot để xem outliers của điểm môn toán\n",
    "import seaborn as sns\n",
    "plt.figure(figsize=(8, 6))\n",
    "sns.boxplot(x='toan', data=df_tva, color='skyblue')\n",
    "plt.title('Boxplot của điểm môn Toán')\n",
    "plt.xlabel('Môn Toán')\n",
    "plt.grid(True)\n",
    "plt.show()"
   ]
  },
  {
   "cell_type": "code",
   "execution_count": 23,
   "metadata": {},
   "outputs": [
    {
     "name": "stdout",
     "output_type": "stream",
     "text": [
      "DataFrame df_toan_iqr có 64181 dòng và 4 cột.\n"
     ]
    }
   ],
   "source": [
    "# Câu 11: Loại bỏ các outliers của điểm môn toán bằng IQR\n",
    "# Tính toán các giá trị của IQR\n",
    "Q1 = df_tva['toan'].quantile(0.25)\n",
    "Q3 = df_tva['toan'].quantile(0.75)\n",
    "IQR = Q3 - Q1\n",
    "\n",
    "# Loại bỏ các outliers bằng IQR\n",
    "df_toan_iqr = df_tva[~((df_tva['toan'] < (Q1 - 1.5 * IQR)) | (df_tva['toan'] > (Q3 + 1.5 * IQR)))]\n",
    "\n",
    "# Xem thông tin về DataFrame df_toan_iqr\n",
    "print(\"DataFrame df_toan_iqr có\", len(df_toan_iqr), \"dòng và\", len(df_toan_iqr.columns), \"cột.\")"
   ]
  },
  {
   "cell_type": "code",
   "execution_count": 24,
   "metadata": {},
   "outputs": [
    {
     "data": {
      "image/png": "[encoded data removed]",
      "text/plain": [
       "<Figure size 576x432 with 1 Axes>"
      ]
     },
     "metadata": {},
     "output_type": "display_data"
    }
   ],
   "source": [
    "# Câu 12: Vẽ đồ thị boxplot của môn toán sau khi loại bỏ các outliers bằng IQR\n",
    "# Tính toán phạm vi IQR\n",
    "Q1 = df_tva['toan'].quantile(0.25)\n",
    "Q3 = df_tva['toan'].quantile(0.75)\n",
    "IQR = Q3 - Q1\n",
    "df_toan_iqr = df_tva[(df_tva['toan'] >= Q1 - 1.5 * IQR) & (df_tva['toan'] <= Q3 + 1.5 * IQR)]\n",
    "plt.figure(figsize=(8, 6))\n",
    "sns.boxplot(x=df_toan_iqr['toan'], color='skyblue')\n",
    "plt.title('Boxplot của môn Toán sau khi loại bỏ outliers bằng IQR')\n",
    "plt.xlabel('Môn Toán')\n",
    "plt.grid(True)\n",
    "plt.show()"
   ]
  },
  {
   "cell_type": "code",
   "execution_count": 25,
   "metadata": {},
   "outputs": [
    {
     "name": "stdout",
     "output_type": "stream",
     "text": [
      "Độ lệch chuẩn của điểm môn Toán: 1.167880618546367\n",
      "Độ lệch chuẩn của điểm môn Văn: 0.8408040947275585\n",
      "Độ lệch chuẩn của điểm môn Anh văn: 1.7655923232248723\n"
     ]
    }
   ],
   "source": [
    "# Câu 13: Dựa vào dataframe df_tva, hãy xem xét sự biến động điểm của môn toán, văn và anh văn bằng cách tính một chỉ số nào đó\n",
    "# và rút ra kết luận\n",
    "std_toan = df_tva['toan'].std()\n",
    "std_van = df_tva['van'].std()\n",
    "std_anh_van = df_tva['ta'].std()\n",
    "\n",
    "print(\"Độ lệch chuẩn của điểm môn Toán:\", std_toan)\n",
    "print(\"Độ lệch chuẩn của điểm môn Văn:\", std_van)\n",
    "print(\"Độ lệch chuẩn của điểm môn Anh văn:\", std_anh_van)"
   ]
  },
  {
   "cell_type": "code",
   "execution_count": 26,
   "metadata": {},
   "outputs": [
    {
     "name": "stdout",
     "output_type": "stream",
     "text": [
      "   Sbd  toan   van   ta xep_loai_toan\n",
      "0  NaN   6.6  6.25  5.2    Trung Bình\n",
      "1  NaN   8.2  7.75  7.0           Khá\n",
      "2  NaN   6.8  6.75  6.0    Trung Bình\n",
      "3  NaN   7.8  6.25  5.6           Khá\n",
      "4  NaN   6.4  6.50  8.2    Trung Bình\n"
     ]
    }
   ],
   "source": [
    "# Câu 14: Dựa vào dataframe df_tva,tiến hành rời rạc hóa điểm toán bằng cách thêm một cột xếp loại và cột xếp loại được xếp\n",
    "# như sau: 8.5-10 -> Giỏi; 7-8.4 -> Khá; 5.5-6.9 -> TB; 4.0-5.4 -> TB Yếu; dưới 4-> Kém\n",
    "def xep_loai(diem):\n",
    "    if diem >= 8.5:\n",
    "        return 'Giỏi'\n",
    "    elif diem >= 7:\n",
    "        return 'Khá'\n",
    "    elif diem >= 5.5:\n",
    "        return 'Trung Bình'\n",
    "    elif diem >= 4:\n",
    "        return 'Trung Bình Yếu'\n",
    "    else:\n",
    "        return 'Kém'\n",
    "df_tva['xep_loai_toan'] = df_tva['toan'].apply(lambda x: xep_loai(x))\n",
    "print(df_tva.head())"
   ]
  },
  {
   "cell_type": "code",
   "execution_count": 29,
   "metadata": {},
   "outputs": [
    {
     "name": "stdout",
     "output_type": "stream",
     "text": [
      "Thống kê xếp loại theo số lượng học sinh:\n",
      "Khá       34904\n",
      "TB        13087\n",
      "Giỏi      12895\n",
      "TB Yếu     3516\n",
      "Kém         647\n",
      "Name: Xep loai, dtype: int64\n"
     ]
    }
   ],
   "source": [
    "# Câu 15: Dựa vào dataframe df_tva, thống kê xếp loại theo số lượng học sinh\n",
    "import pandas as pd\n",
    "\n",
    "# Xác định các khoảng xếp loại\n",
    "bins = [0, 4, 5.4, 6.9, 8.4, 10]\n",
    "labels = ['Kém', 'TB Yếu', 'TB', 'Khá', 'Giỏi']\n",
    "\n",
    "# Tạo cột xếp loại mới\n",
    "df_tva['Xep loai'] = pd.cut(df_tva['toan'], bins=bins, labels=labels)\n",
    "\n",
    "# Thống kê xếp loại theo số lượng học sinh\n",
    "xep_loai_count = df_tva['Xep loai'].value_counts()\n",
    "\n",
    "# Hiển thị kết quả\n",
    "print(\"Thống kê xếp loại theo số lượng học sinh:\")\n",
    "print(xep_loai_count)"
   ]
  },
  {
   "cell_type": "code",
   "execution_count": 30,
   "metadata": {},
   "outputs": [
    {
     "name": "stdout",
     "output_type": "stream",
     "text": [
      "   Sbd  toan   van   ta xep_loai_toan Xep loai  nor_toan\n",
      "0  NaN   6.6  6.25  5.2    Trung Bình       TB  0.627907\n",
      "1  NaN   8.2  7.75  7.0           Khá      Khá  0.813953\n",
      "2  NaN   6.8  6.75  6.0    Trung Bình       TB  0.651163\n",
      "3  NaN   7.8  6.25  5.6           Khá      Khá  0.767442\n",
      "4  NaN   6.4  6.50  8.2    Trung Bình       TB  0.604651\n"
     ]
    }
   ],
   "source": [
    "# Câu 16: Dựa vào dataframe df_tva, thêm một cột mới vởi tên nor_toan và tiến hành normalization dựa vào giá trị min và max\n",
    "# Tính toán giá trị min và max của cột 'toan'\n",
    "toan_min = df_tva['toan'].min()\n",
    "toan_max = df_tva['toan'].max()\n",
    "\n",
    "# Thực hiện normalization và thêm cột mới 'nor_toan'\n",
    "df_tva['nor_toan'] = (df_tva['toan'] - toan_min) / (toan_max - toan_min)\n",
    "\n",
    "# Hiển thị DataFrame sau khi thêm cột mới\n",
    "print(df_tva.head())"
   ]
  },
  {
   "cell_type": "code",
   "execution_count": null,
   "metadata": {},
   "outputs": [],
   "source": []
  }
 ],
 "metadata": {
  "kernelspec": {
   "display_name": "Python 3",
   "language": "python",
   "name": "python3"
  },
  "language_info": {
   "codemirror_mode": {
    "name": "ipython",
    "version": 3
   },
   "file_extension": ".py",
   "mimetype": "text/x-python",
   "name": "python",
   "nbconvert_exporter": "python",
   "pygments_lexer": "ipython3",
   "version": "3.7.1"
  }
 },
 "nbformat": 4,
 "nbformat_minor": 5
}
