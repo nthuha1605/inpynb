{
 "cells": [
  {
   "cell_type": "code",
   "execution_count": 1,
   "metadata": {},
   "outputs": [
    {
     "data": {
      "text/plain": [
       "(array([  4.,   0.,   5.,  11.,  22.,  40.,  64.,  85.,  96., 112., 135.,\n",
       "        120.,  88.,  77.,  52.,  45.,  20.,  16.,   4.,   4.]),\n",
       " array([5.35642417, 5.41917414, 5.48192411, 5.54467409, 5.60742406,\n",
       "        5.67017404, 5.73292401, 5.79567399, 5.85842396, 5.92117393,\n",
       "        5.98392391, 6.04667388, 6.10942386, 6.17217383, 6.2349238 ,\n",
       "        6.29767378, 6.36042375, 6.42317373, 6.4859237 , 6.54867368,\n",
       "        6.61142365]),\n",
       " <a list of 20 Patch objects>)"
      ]
     },
     "execution_count": 1,
     "metadata": {},
     "output_type": "execute_result"
    }
   ],
   "source": [
    "import numpy as np\n",
    "import matplotlib.pyplot as plt\n",
    "s=np.random.normal(6,0.2,1000)\n",
    "plt.hist(s,bins=20, edgecolor='black')"
   ]
  },
  {
   "cell_type": "code",
   "execution_count": 2,
   "metadata": {},
   "outputs": [
    {
     "name": "stderr",
     "output_type": "stream",
     "text": [
      "'pipinstall' is not recognized as an internal or external command,\n",
      "operable program or batch file.\n"
     ]
    }
   ],
   "source": [
    "!pipinstall numpy pandas matplotlib"
   ]
  },
  {
   "cell_type": "code",
   "execution_count": 3,
   "metadata": {},
   "outputs": [
    {
     "name": "stdout",
     "output_type": "stream",
     "text": [
      "Requirement already satisfied: numpy in c:\\users\\thuha\\anaconda3\\lib\\site-packages (1.15.4)\n",
      "Requirement already satisfied: pandas in c:\\users\\thuha\\anaconda3\\lib\\site-packages (0.23.4)\n",
      "Requirement already satisfied: matplotlib in c:\\users\\thuha\\anaconda3\\lib\\site-packages (3.0.2)\n",
      "Requirement already satisfied: python-dateutil>=2.5.0 in c:\\users\\thuha\\anaconda3\\lib\\site-packages (from pandas) (2.7.5)\n",
      "Requirement already satisfied: pytz>=2011k in c:\\users\\thuha\\anaconda3\\lib\\site-packages (from pandas) (2018.7)\n",
      "Requirement already satisfied: cycler>=0.10 in c:\\users\\thuha\\anaconda3\\lib\\site-packages (from matplotlib) (0.10.0)\n",
      "Requirement already satisfied: kiwisolver>=1.0.1 in c:\\users\\thuha\\anaconda3\\lib\\site-packages (from matplotlib) (1.0.1)\n",
      "Requirement already satisfied: pyparsing!=2.0.4,!=2.1.2,!=2.1.6,>=2.0.1 in c:\\users\\thuha\\anaconda3\\lib\\site-packages (from matplotlib) (2.3.0)\n",
      "Requirement already satisfied: six in c:\\users\\thuha\\anaconda3\\lib\\site-packages (from cycler>=0.10->matplotlib) (1.12.0)\n",
      "Requirement already satisfied: setuptools in c:\\users\\thuha\\anaconda3\\lib\\site-packages (from kiwisolver>=1.0.1->matplotlib) (40.6.3)\n"
     ]
    },
    {
     "name": "stderr",
     "output_type": "stream",
     "text": [
      "DEPRECATION: pandas 0.23.4 has a non-standard dependency specifier pytz>=2011k. pip 24.0 will enforce this behaviour change. A possible replacement is to upgrade to a newer version of pandas or contact the author to suggest that they release a version with a conforming dependency specifiers. Discussion can be found at https://github.com/pypa/pip/issues/12063\n"
     ]
    }
   ],
   "source": [
    "!pip install numpy pandas matplotlib"
   ]
  },
  {
   "cell_type": "code",
   "execution_count": 4,
   "metadata": {},
   "outputs": [
    {
     "data": {
      "text/plain": [
       "(array([  3.,   4.,   8.,  16.,  41.,  59.,  77., 127., 131., 145., 127.,\n",
       "        100.,  77.,  51.,  19.,  10.,   2.,   1.,   1.,   1.]),\n",
       " array([5.35274555, 5.42319703, 5.49364851, 5.56409999, 5.63455147,\n",
       "        5.70500295, 5.77545443, 5.84590591, 5.91635739, 5.98680887,\n",
       "        6.05726035, 6.12771183, 6.19816331, 6.26861479, 6.33906627,\n",
       "        6.40951775, 6.47996923, 6.55042071, 6.62087219, 6.69132367,\n",
       "        6.76177515]),\n",
       " <a list of 20 Patch objects>)"
      ]
     },
     "execution_count": 4,
     "metadata": {},
     "output_type": "execute_result"
    },
    {
     "data": {
      "image/png": "[encoded data removed]",
      "text/plain": [
       "<Figure size 432x288 with 1 Axes>"
      ]
     },
     "metadata": {
      "needs_background": "light"
     },
     "output_type": "display_data"
    }
   ],
   "source": [
    "import numpy as np\n",
    "import matplotlib.pyplot as plt\n",
    "s=np.random.normal(6,0.2,1000)\n",
    "plt.hist(s,bins=20, edgecolor='black')"
   ]
  },
  {
   "cell_type": "code",
   "execution_count": null,
   "metadata": {},
   "outputs": [],
   "source": []
  }
 ],
 "metadata": {
  "kernelspec": {
   "display_name": "Python 3",
   "language": "python",
   "name": "python3"
  },
  "language_info": {
   "codemirror_mode": {
    "name": "ipython",
    "version": 3
   },
   "file_extension": ".py",
   "mimetype": "text/x-python",
   "name": "python",
   "nbconvert_exporter": "python",
   "pygments_lexer": "ipython3",
   "version": "3.7.1"
  }
 },
 "nbformat": 4,
 "nbformat_minor": 2
}
