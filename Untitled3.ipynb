{
 "cells": [
  {
   "cell_type": "code",
   "execution_count": 1,
   "metadata": {},
   "outputs": [
    {
     "name": "stdout",
     "output_type": "stream",
     "text": [
      "[0 1 2 3 4 5 6 7 8 9]\n",
      "<class 'numpy.ndarray'>\n",
      "<class 'numpy.int32'>\n"
     ]
    },
    {
     "data": {
      "text/plain": [
       "(10,)"
      ]
     },
     "execution_count": 1,
     "metadata": {},
     "output_type": "execute_result"
    }
   ],
   "source": [
    "import numpy as np\n",
    "\n",
    "arr=np.arange(0,10,1)\n",
    "\n",
    "# Hiển thị các phần tử có trong arr\n",
    "print(arr)\n",
    "\n",
    "# Xem kiểu dữ liệu của arr và kiểu dữ liệu phần tử của arr\n",
    "print(arr.dpyte)\n",
    "print(arr[0].dpyte)\n",
    "arr.shape\n"
   ]
  },
  {
   "cell_type": "code",
   "execution_count": 2,
   "metadata": {},
   "outputs": [
    {
     "name": "stdout",
     "output_type": "stream",
     "text": [
      "[0 1 2 3 4 5 6 7 8 9]\n"
     ]
    },
    {
     "ename": "AttributeError",
     "evalue": "'numpy.ndarray' object has no attribute 'dpyte'",
     "output_type": "error",
     "traceback": [
      "\u001b[1;31m---------------------------------------------------------------------------\u001b[0m",
      "\u001b[1;31mAttributeError\u001b[0m                            Traceback (most recent call last)",
      "\u001b[1;32m<ipython-input-2-ba03829fc624>\u001b[0m in \u001b[0;36m<module>\u001b[1;34m\u001b[0m\n\u001b[0;32m      7\u001b[0m \u001b[1;33m\u001b[0m\u001b[0m\n\u001b[0;32m      8\u001b[0m \u001b[1;31m# Xem kiểu dữ liệu của arr và kiểu dữ liệu phần tử của arr\u001b[0m\u001b[1;33m\u001b[0m\u001b[1;33m\u001b[0m\u001b[1;33m\u001b[0m\u001b[0m\n\u001b[1;32m----> 9\u001b[1;33m \u001b[0mprint\u001b[0m\u001b[1;33m(\u001b[0m\u001b[0marr\u001b[0m\u001b[1;33m.\u001b[0m\u001b[0mdpyte\u001b[0m\u001b[1;33m)\u001b[0m\u001b[1;33m\u001b[0m\u001b[1;33m\u001b[0m\u001b[0m\n\u001b[0m\u001b[0;32m     10\u001b[0m \u001b[0mprint\u001b[0m\u001b[1;33m(\u001b[0m\u001b[0marr\u001b[0m\u001b[1;33m[\u001b[0m\u001b[1;36m0\u001b[0m\u001b[1;33m]\u001b[0m\u001b[1;33m.\u001b[0m\u001b[0mdpyte\u001b[0m\u001b[1;33m)\u001b[0m\u001b[1;33m\u001b[0m\u001b[1;33m\u001b[0m\u001b[0m\n\u001b[0;32m     11\u001b[0m \u001b[0marr\u001b[0m\u001b[1;33m.\u001b[0m\u001b[0mshape\u001b[0m\u001b[1;33m\u001b[0m\u001b[1;33m\u001b[0m\u001b[0m\n",
      "\u001b[1;31mAttributeError\u001b[0m: 'numpy.ndarray' object has no attribute 'dpyte'"
     ]
    }
   ],
   "source": [
    "import numpy as np\n",
    "\n",
    "arr=np.arange(0,10,1)\n",
    "print(arr)\n",
    "print(arr.dpyte)\n",
    "print(arr[0].dpyte)\n",
    "arr.shape"
   ]
  },
  {
   "cell_type": "code",
   "execution_count": 3,
   "metadata": {},
   "outputs": [
    {
     "name": "stdout",
     "output_type": "stream",
     "text": [
      "[0 1 2 3 4 5 6 7 8 9]\n",
      "int32\n",
      "int32\n",
      "(10,)\n"
     ]
    }
   ],
   "source": [
    "import numpy as np\n",
    "\n",
    "# Tạo numpy array có giá trị từ 0-9\n",
    "arr = np.arange(10)\n",
    "\n",
    "# Hiển thị các phần tử có trong arr\n",
    "print(arr)\n",
    "\n",
    "# Xem kiểu dữ liệu của arr và kiểu dữ liệu phần tử của arr\n",
    "print(arr.dtype)\n",
    "print(arr[0].dtype)  # Có thể bỏ dòng này vì kết quả trùng với dòng trên\n",
    "\n",
    "# Xem kích thước (shape) của arr\n",
    "print(arr.shape)"
   ]
  },
  {
   "cell_type": "code",
   "execution_count": 4,
   "metadata": {},
   "outputs": [
    {
     "name": "stdout",
     "output_type": "stream",
     "text": [
      "[2 3 4 5 6 7 8]\n"
     ]
    }
   ],
   "source": [
    "import numpy as np\n",
    "\n",
    "# Tạo numpy array có giá trị từ 0-9\n",
    "arr = np.arange(10)\n",
    "\n",
    "# Tạo mảng mới arr_f\n",
    "arr_f = arr[arr >= 2]\n",
    "arr_f = arr_f[arr_f <= 8]\n",
    "\n",
    "# Hiển thị mảng arr_f\n",
    "print(arr_f)"
   ]
  },
  {
   "cell_type": "code",
   "execution_count": 5,
   "metadata": {},
   "outputs": [
    {
     "name": "stdout",
     "output_type": "stream",
     "text": [
      "[5. 6. 7.]\n"
     ]
    }
   ],
   "source": [
    "import numpy as np\n",
    "\n",
    "arr_new = np.linspace(5, 7, 3)\n",
    "\n",
    "print(arr_new)"
   ]
  },
  {
   "cell_type": "code",
   "execution_count": 6,
   "metadata": {},
   "outputs": [
    {
     "name": "stdout",
     "output_type": "stream",
     "text": [
      "[5 6 7]\n"
     ]
    }
   ],
   "source": [
    "import numpy as np\n",
    "arr_new = np.arange(5, 8)\n",
    "print(arr_new)"
   ]
  },
  {
   "cell_type": "code",
   "execution_count": 7,
   "metadata": {},
   "outputs": [
    {
     "ename": "NameError",
     "evalue": "name 'start' is not defined",
     "output_type": "error",
     "traceback": [
      "\u001b[1;31m---------------------------------------------------------------------------\u001b[0m",
      "\u001b[1;31mNameError\u001b[0m                                 Traceback (most recent call last)",
      "\u001b[1;32m<ipython-input-7-fd857cfa7d3a>\u001b[0m in \u001b[0;36m<module>\u001b[1;34m\u001b[0m\n\u001b[0;32m      2\u001b[0m \u001b[1;33m\u001b[0m\u001b[0m\n\u001b[0;32m      3\u001b[0m \u001b[1;31m# Tạo mảng arr_new\u001b[0m\u001b[1;33m\u001b[0m\u001b[1;33m\u001b[0m\u001b[1;33m\u001b[0m\u001b[0m\n\u001b[1;32m----> 4\u001b[1;33m \u001b[0marr_new\u001b[0m \u001b[1;33m=\u001b[0m \u001b[0mnp\u001b[0m\u001b[1;33m.\u001b[0m\u001b[0mlinspace\u001b[0m\u001b[1;33m(\u001b[0m\u001b[0mstart\u001b[0m\u001b[1;33m,\u001b[0m \u001b[0mend\u001b[0m\u001b[1;33m,\u001b[0m \u001b[0mnum_points\u001b[0m\u001b[1;33m)\u001b[0m \u001b[1;33m+\u001b[0m \u001b[0moffset\u001b[0m\u001b[1;33m\u001b[0m\u001b[1;33m\u001b[0m\u001b[0m\n\u001b[0m\u001b[0;32m      5\u001b[0m \u001b[1;33m\u001b[0m\u001b[0m\n\u001b[0;32m      6\u001b[0m \u001b[1;31m# Hiển thị mảng arr_new\u001b[0m\u001b[1;33m\u001b[0m\u001b[1;33m\u001b[0m\u001b[1;33m\u001b[0m\u001b[0m\n",
      "\u001b[1;31mNameError\u001b[0m: name 'start' is not defined"
     ]
    }
   ],
   "source": [
    "import numpy as np\n",
    "\n",
    "# Tạo mảng arr_new\n",
    "arr_new = np.linspace(start, end, num_points) + offset\n",
    "\n",
    "# Hiển thị mảng arr_new\n",
    "print(arr_new)"
   ]
  },
  {
   "cell_type": "code",
   "execution_count": 8,
   "metadata": {},
   "outputs": [
    {
     "name": "stdout",
     "output_type": "stream",
     "text": [
      "[5 5 5 5 5 6 7 6 5 5 5 5 5]\n"
     ]
    }
   ],
   "source": [
    "import numpy as np\n",
    "\n",
    "# Tạo mảng b\n",
    "b = np.array([1, 2, 3, 4, 5, 6, 7, 6, 5, 4, 3, 2, 1])\n",
    "\n",
    "# Tạo mảng c\n",
    "c = np.where(b >= 5, b, 5)\n",
    "\n",
    "# Hiển thị mảng c\n",
    "print(c)"
   ]
  },
  {
   "cell_type": "code",
   "execution_count": 9,
   "metadata": {},
   "outputs": [
    {
     "name": "stdout",
     "output_type": "stream",
     "text": [
      "[1 3 5 7 9]\n",
      "[0 2 4 6 8]\n"
     ]
    }
   ],
   "source": [
    "import numpy as np\n",
    "\n",
    "# Tạo mảng arr\n",
    "arr = np.arange(10)\n",
    "\n",
    "# Tạo mảng arr_odd\n",
    "arr_odd = np.extract(arr % 2 == 1, arr)\n",
    "\n",
    "# Tạo mảng arr_even\n",
    "arr_even = np.extract(arr % 2 == 0, arr)\n",
    "\n",
    "# Hiển thị các phần tử có trong arr_odd và arr_even\n",
    "print(arr_odd)\n",
    "print(arr_even)"
   ]
  },
  {
   "cell_type": "code",
   "execution_count": 10,
   "metadata": {},
   "outputs": [
    {
     "name": "stdout",
     "output_type": "stream",
     "text": [
      "[1 3 5 7 9]\n",
      "[2 4 6 8]\n"
     ]
    }
   ],
   "source": [
    "import numpy as np\n",
    "\n",
    "# Tạo mảng arr\n",
    "arr = np.array([1, 2, 3, 4, 5, 6, 7, 8, 9])\n",
    "\n",
    "# Tạo mảng arr_odd\n",
    "arr_odd = np.extract(arr % 2 == 1, arr)\n",
    "\n",
    "# Tạo mảng arr_even\n",
    "arr_even = np.extract(arr % 2 == 0, arr)\n",
    "\n",
    "# Hiển thị các phần tử có trong arr_odd và arr_even\n",
    "print(arr_odd)\n",
    "print(arr_even)"
   ]
  },
  {
   "cell_type": "code",
   "execution_count": 11,
   "metadata": {},
   "outputs": [
    {
     "ename": "TypeError",
     "evalue": "'reverse' is an invalid keyword argument for sort()",
     "output_type": "error",
     "traceback": [
      "\u001b[1;31m---------------------------------------------------------------------------\u001b[0m",
      "\u001b[1;31mTypeError\u001b[0m                                 Traceback (most recent call last)",
      "\u001b[1;32m<ipython-input-11-c4c7831f7e21>\u001b[0m in \u001b[0;36m<module>\u001b[1;34m\u001b[0m\n\u001b[0;32m      8\u001b[0m \u001b[1;33m\u001b[0m\u001b[0m\n\u001b[0;32m      9\u001b[0m \u001b[1;31m# Sắp xếp mảng arr_update_1 giảm dần\u001b[0m\u001b[1;33m\u001b[0m\u001b[1;33m\u001b[0m\u001b[1;33m\u001b[0m\u001b[0m\n\u001b[1;32m---> 10\u001b[1;33m \u001b[0marr_update_1\u001b[0m\u001b[1;33m.\u001b[0m\u001b[0msort\u001b[0m\u001b[1;33m(\u001b[0m\u001b[0mreverse\u001b[0m\u001b[1;33m=\u001b[0m\u001b[1;32mTrue\u001b[0m\u001b[1;33m)\u001b[0m\u001b[1;33m\u001b[0m\u001b[1;33m\u001b[0m\u001b[0m\n\u001b[0m\u001b[0;32m     11\u001b[0m \u001b[1;33m\u001b[0m\u001b[0m\n\u001b[0;32m     12\u001b[0m \u001b[1;31m# Hiển thị mảng arr_update_1\u001b[0m\u001b[1;33m\u001b[0m\u001b[1;33m\u001b[0m\u001b[1;33m\u001b[0m\u001b[0m\n",
      "\u001b[1;31mTypeError\u001b[0m: 'reverse' is an invalid keyword argument for sort()"
     ]
    }
   ],
   "source": [
    "import numpy as np\n",
    "\n",
    "# Tạo mảng arr\n",
    "arr = np.arange(10)\n",
    "\n",
    "# Tạo mảng arr_update_1\n",
    "arr_update_1 = np.where(arr % 2 == 0, 50, arr)\n",
    "\n",
    "# Sắp xếp mảng arr_update_1 giảm dần\n",
    "arr_update_1.sort(reverse=True)\n",
    "\n",
    "# Hiển thị mảng arr_update_1\n",
    "print(arr_update_1)"
   ]
  },
  {
   "cell_type": "code",
   "execution_count": 12,
   "metadata": {},
   "outputs": [
    {
     "ename": "TypeError",
     "evalue": "'reverse' is an invalid keyword argument for sort()",
     "output_type": "error",
     "traceback": [
      "\u001b[1;31m---------------------------------------------------------------------------\u001b[0m",
      "\u001b[1;31mTypeError\u001b[0m                                 Traceback (most recent call last)",
      "\u001b[1;32m<ipython-input-12-15914e765b83>\u001b[0m in \u001b[0;36m<module>\u001b[1;34m\u001b[0m\n\u001b[0;32m      7\u001b[0m \u001b[1;33m\u001b[0m\u001b[0m\n\u001b[0;32m      8\u001b[0m \u001b[1;31m# Sắp xếp mảng arr_update_1 giảm dần\u001b[0m\u001b[1;33m\u001b[0m\u001b[1;33m\u001b[0m\u001b[1;33m\u001b[0m\u001b[0m\n\u001b[1;32m----> 9\u001b[1;33m \u001b[0marr_update_1\u001b[0m\u001b[1;33m.\u001b[0m\u001b[0msort\u001b[0m\u001b[1;33m(\u001b[0m\u001b[0mreverse\u001b[0m\u001b[1;33m=\u001b[0m\u001b[1;32mTrue\u001b[0m\u001b[1;33m)\u001b[0m\u001b[1;33m\u001b[0m\u001b[1;33m\u001b[0m\u001b[0m\n\u001b[0m\u001b[0;32m     10\u001b[0m \u001b[1;33m\u001b[0m\u001b[0m\n\u001b[0;32m     11\u001b[0m \u001b[1;31m# Hiển thị mảng arr_update_1\u001b[0m\u001b[1;33m\u001b[0m\u001b[1;33m\u001b[0m\u001b[1;33m\u001b[0m\u001b[0m\n",
      "\u001b[1;31mTypeError\u001b[0m: 'reverse' is an invalid keyword argument for sort()"
     ]
    }
   ],
   "source": [
    "import numpy as np\n",
    "\n",
    "# ... (các dòng mã trước đó)\n",
    "\n",
    "# Chuyển đổi arr_update_1 thành mảng NumPy\n",
    "arr_update_1 = np.array(arr_update_1)\n",
    "\n",
    "# Sắp xếp mảng arr_update_1 giảm dần\n",
    "arr_update_1.sort(reverse=True)\n",
    "\n",
    "# Hiển thị mảng arr_update_1\n",
    "print(arr_update_1)"
   ]
  },
  {
   "cell_type": "code",
   "execution_count": 13,
   "metadata": {},
   "outputs": [
    {
     "name": "stdout",
     "output_type": "stream",
     "text": [
      "[0 1 2 3 4 5 6 7 8 9]\n",
      "int32\n",
      "int32\n",
      "(10,)\n",
      "[50, 50, 50, 50, 50, 9, 7, 5, 3, 1]\n"
     ]
    }
   ],
   "source": [
    "import numpy as np\n",
    "\n",
    "# Tạo arr_update_1\n",
    "arr_update_1 = []\n",
    "for i in range(len(arr)):\n",
    "    if arr[i] % 2 == 0:\n",
    "        arr_update_1.append(50)\n",
    "    else:\n",
    "        arr_update_1.append(arr[i])\n",
    "\n",
    "# Sắp xếp arr_update_1 giảm dần\n",
    "arr_update_1.sort(reverse=True)\n",
    "\n",
    "# Hiển thị arr_update_1\n",
    "print(arr_update_1)"
   ]
  },
  {
   "cell_type": "code",
   "execution_count": 14,
   "metadata": {},
   "outputs": [
    {
     "name": "stdout",
     "output_type": "stream",
     "text": [
      "[50, 50, 50, 50, 50, 9, 7, 5, 3, 1]\n"
     ]
    }
   ],
   "source": [
    "import numpy as np\n",
    "\n",
    "# Tạo arr_update_1\n",
    "arr_update_1 = []\n",
    "for i in range(len(arr)):\n",
    "    if arr[i] % 2 == 0:\n",
    "        arr_update_1.append(50)\n",
    "    else:\n",
    "        arr_update_1.append(arr[i])\n",
    "\n",
    "# Sắp xếp arr_update_1 giảm dần\n",
    "arr_update_1.sort(reverse=True)\n",
    "\n",
    "# Hiển thị arr_update_1\n",
    "print(arr_update_1)"
   ]
  },
  {
   "cell_type": "code",
   "execution_count": 15,
   "metadata": {},
   "outputs": [
    {
     "ename": "AttributeError",
     "evalue": "'numpy.ndarray' object has no attribute 'append'",
     "output_type": "error",
     "traceback": [
      "\u001b[1;31m---------------------------------------------------------------------------\u001b[0m",
      "\u001b[1;31mAttributeError\u001b[0m                            Traceback (most recent call last)",
      "\u001b[1;32m<ipython-input-15-d2db8e13e2c6>\u001b[0m in \u001b[0;36m<module>\u001b[1;34m\u001b[0m\n\u001b[0;32m      6\u001b[0m \u001b[1;31m# Tạo mảng arr_app\u001b[0m\u001b[1;33m\u001b[0m\u001b[1;33m\u001b[0m\u001b[1;33m\u001b[0m\u001b[0m\n\u001b[0;32m      7\u001b[0m \u001b[0marr_app\u001b[0m \u001b[1;33m=\u001b[0m \u001b[0marr\u001b[0m\u001b[1;33m.\u001b[0m\u001b[0mcopy\u001b[0m\u001b[1;33m(\u001b[0m\u001b[1;33m)\u001b[0m\u001b[1;33m\u001b[0m\u001b[1;33m\u001b[0m\u001b[0m\n\u001b[1;32m----> 8\u001b[1;33m \u001b[0marr_app\u001b[0m\u001b[1;33m.\u001b[0m\u001b[0mappend\u001b[0m\u001b[1;33m(\u001b[0m\u001b[1;36m10\u001b[0m\u001b[1;33m)\u001b[0m\u001b[1;33m\u001b[0m\u001b[1;33m\u001b[0m\u001b[0m\n\u001b[0m\u001b[0;32m      9\u001b[0m \u001b[0marr_app\u001b[0m\u001b[1;33m.\u001b[0m\u001b[0mappend\u001b[0m\u001b[1;33m(\u001b[0m\u001b[1;36m20\u001b[0m\u001b[1;33m)\u001b[0m\u001b[1;33m\u001b[0m\u001b[1;33m\u001b[0m\u001b[0m\n\u001b[0;32m     10\u001b[0m \u001b[1;33m\u001b[0m\u001b[0m\n",
      "\u001b[1;31mAttributeError\u001b[0m: 'numpy.ndarray' object has no attribute 'append'"
     ]
    }
   ],
   "source": [
    "import numpy as np\n",
    "\n",
    "# Tạo numpy array có giá trị từ 0-9\n",
    "arr = np.arange(10)\n",
    "\n",
    "# Tạo mảng arr_app\n",
    "arr_app = arr.copy()\n",
    "arr_app.append(10)\n",
    "arr_app.append(20)\n",
    "\n",
    "# Hiển thị arr_app\n",
    "print(arr_app)"
   ]
  },
  {
   "cell_type": "code",
   "execution_count": 16,
   "metadata": {},
   "outputs": [
    {
     "name": "stdout",
     "output_type": "stream",
     "text": [
      "[[[2.93117335e-01 8.92431271e-01 3.32881907e-01]\n",
      "  [4.96838325e-01 4.50926978e-01 6.84597656e-02]]\n",
      "\n",
      " [[3.65134624e-01 4.65794450e-01 4.94956711e-01]\n",
      "  [8.13496147e-01 5.39129029e-04 9.76150849e-01]]\n",
      "\n",
      " [[9.08055208e-01 1.07415389e-01 5.78052500e-01]\n",
      "  [6.48347889e-01 6.51035530e-02 9.83058331e-01]]]\n"
     ]
    }
   ],
   "source": [
    "import numpy as np\n",
    "\n",
    "# Tạo mảng arr_ran1\n",
    "arr_ran1 = np.random.rand(3, 2, 3)\n",
    "\n",
    "# Hiển thị arr_ran1\n",
    "print(arr_ran1)"
   ]
  },
  {
   "cell_type": "code",
   "execution_count": 17,
   "metadata": {},
   "outputs": [],
   "source": [
    "import numpy as np\n",
    "import matplotlib.pyplot as plt\n",
    "\n",
    "# Tạo seed để đảm bảo kết quả ngẫu nhiên luôn giống nhau\n",
    "np.random.seed(1)\n",
    "\n",
    "# Tạo mảng 1 chiều với 1000 điểm dữ liệu ngẫu nhiên theo phân phối chuẩn\n",
    "arr = np.random.normal(100, 5, 1000)"
   ]
  },
  {
   "cell_type": "code",
   "execution_count": 20,
   "metadata": {},
   "outputs": [
    {
     "data": {
      "image/png": "[encoded data removed]",
      "text/plain": [
       "<Figure size 432x288 with 1 Axes>"
      ]
     },
     "metadata": {
      "needs_background": "light"
     },
     "output_type": "display_data"
    }
   ],
   "source": [
    "import numpy as np\n",
    "import matplotlib.pyplot as plt\n",
    "\n",
    "# Tạo seed để đảm bảo kết quả ngẫu nhiên luôn giống nhau\n",
    "np.random.seed(1)\n",
    "\n",
    "# Tạo mảng 1 chiều với 1000 điểm dữ liệu ngẫu nhiên theo phân phối chuẩn\n",
    "arr = np.random.normal(100, 5, 1000)\n",
    "# Tính giá trị trung bình\n",
    "mean = np.mean(arr)\n",
    "\n",
    "# Tính độ lệch chuẩn\n",
    "std = np.std(arr)\n",
    "# Tạo mảng `arr_range` bao gồm tất cả các giá trị từ 40 đến 60\n",
    "arr_range = np.arange(40, 61)\n",
    "\n",
    "# Sử dụng hàm `np.isin()` để kiểm tra xem mỗi phần tử của mảng `arr` có nằm trong mảng `arr_range` hay không\n",
    "arr_in_range = np.isin(arr, arr_range)\n",
    "\n",
    "# Sử dụng hàm `sum()` để đếm số lượng phần tử `True` trong mảng `arr_in_range`\n",
    "count = np.sum(arr_in_range)\n",
    "# Vẽ biểu đồ histogram của dữ liệu\n",
    "plt.hist(arr, bins=20)\n",
    "plt.show()"
   ]
  },
  {
   "cell_type": "code",
   "execution_count": 21,
   "metadata": {},
   "outputs": [
    {
     "name": "stdout",
     "output_type": "stream",
     "text": [
      "[37 12  8  9 11  5 15  0 16  1 12  7  6 25 20 37 18 20 11 28]\n",
      "[1 0 0 0 0 0 0 0 0 0 0 0 0 0 0 1 0 0 0 1]\n",
      "(array([ 1,  3,  6,  7, 10, 12, 16], dtype=int64),)\n",
      "[  1 144   0  81   0   0 225   0   0   0 144   0  36   0   0   1 324   0\n",
      "   0   1]\n",
      "309\n"
     ]
    }
   ],
   "source": [
    "# Câu 10\n",
    "np.random.seed(1)\n",
    "# a)Tạo một mảng 1 chiều có 20 phần tử ngẫu nhiên từ 0 đến 40.\n",
    "import numpy as np\n",
    "np.random.seed(1)\n",
    "arr = np.random.randint(0, 41, 20)\n",
    "print(arr)\n",
    "# b) Sử dụng np.where để tạo một mảng mới, trong đó các giá trị lớn hơn 25 được thay thế bằng 1, và các giá trị nhỏ hơn hoặc bằng 50 được thay thế bằng 0.\n",
    "arr_new = np.where(arr > 25, 1, 0)\n",
    "print(arr_new)\n",
    "# c)Tìm tất cả các vị trí của các số chia hết cho 3 trong mảng.\n",
    "ind = np.where(arr % 3 == 0)\n",
    "print(ind)\n",
    "# d)Thay thế tất cả các giá trị là số chia hết cho 3 bằng bình phương của chúng. \n",
    "arr_new[ind] = arr[ind]**2\n",
    "print(arr_new)\n",
    "# e)Tính tổng của các số lẻ trong mảng sau khi đã thực hiện các bước trên.\n",
    "sum_odd = np.sum(arr_new[arr_new % 2 == 1])\n",
    "print(sum_odd)"
   ]
  },
  {
   "cell_type": "code",
   "execution_count": 22,
   "metadata": {},
   "outputs": [
    {
     "ename": "AttributeError",
     "evalue": "'numpy.ndarray' object has no attribute 'append'",
     "output_type": "error",
     "traceback": [
      "\u001b[1;31m---------------------------------------------------------------------------\u001b[0m",
      "\u001b[1;31mAttributeError\u001b[0m                            Traceback (most recent call last)",
      "\u001b[1;32m<ipython-input-22-1c6cc3eae76a>\u001b[0m in \u001b[0;36m<module>\u001b[1;34m\u001b[0m\n\u001b[0;32m      2\u001b[0m \u001b[0marr\u001b[0m \u001b[1;33m=\u001b[0m \u001b[0mnp\u001b[0m\u001b[1;33m.\u001b[0m\u001b[0marange\u001b[0m\u001b[1;33m(\u001b[0m\u001b[1;36m10\u001b[0m\u001b[1;33m)\u001b[0m\u001b[1;33m\u001b[0m\u001b[1;33m\u001b[0m\u001b[0m\n\u001b[0;32m      3\u001b[0m \u001b[0marr_app\u001b[0m \u001b[1;33m=\u001b[0m \u001b[0marr\u001b[0m\u001b[1;33m.\u001b[0m\u001b[0mcopy\u001b[0m\u001b[1;33m(\u001b[0m\u001b[1;33m)\u001b[0m\u001b[1;33m\u001b[0m\u001b[1;33m\u001b[0m\u001b[0m\n\u001b[1;32m----> 4\u001b[1;33m \u001b[0marr_app\u001b[0m\u001b[1;33m.\u001b[0m\u001b[0mappend\u001b[0m\u001b[1;33m(\u001b[0m\u001b[1;36m10\u001b[0m\u001b[1;33m)\u001b[0m\u001b[1;33m\u001b[0m\u001b[1;33m\u001b[0m\u001b[0m\n\u001b[0m\u001b[0;32m      5\u001b[0m \u001b[0marr_app\u001b[0m\u001b[1;33m.\u001b[0m\u001b[0mappend\u001b[0m\u001b[1;33m(\u001b[0m\u001b[1;36m20\u001b[0m\u001b[1;33m)\u001b[0m\u001b[1;33m\u001b[0m\u001b[1;33m\u001b[0m\u001b[0m\n\u001b[0;32m      6\u001b[0m \u001b[0mprint\u001b[0m\u001b[1;33m(\u001b[0m\u001b[0marr_app\u001b[0m\u001b[1;33m)\u001b[0m\u001b[1;33m\u001b[0m\u001b[1;33m\u001b[0m\u001b[0m\n",
      "\u001b[1;31mAttributeError\u001b[0m: 'numpy.ndarray' object has no attribute 'append'"
     ]
    }
   ],
   "source": [
    "import numpy as np\n",
    "arr = np.arange(10)\n",
    "arr_app = arr.copy()\n",
    "arr_app.append(10)\n",
    "arr_app.append(20)\n",
    "print(arr_app)"
   ]
  },
  {
   "cell_type": "code",
   "execution_count": 23,
   "metadata": {},
   "outputs": [
    {
     "data": {
      "image/png": "[encoded data removed]",
      "text/plain": [
       "<Figure size 432x288 with 1 Axes>"
      ]
     },
     "metadata": {
      "needs_background": "light"
     },
     "output_type": "display_data"
    }
   ],
   "source": [
    "# Trả lời câu 8: \n",
    "import numpy as np\n",
    "import matplotlib.pyplot as plt\n",
    "np.random.seed(1)\n",
    "arr = np.random.normal(100, 5, 1000)\n",
    "mean = np.mean(arr)\n",
    "std = np.std(arr)\n",
    "arr_range = np.arange(40, 61)\n",
    "arr_in_range = np.isin(arr, arr_range)\n",
    "count = np.sum(arr_in_range)\n",
    "plt.hist(arr, bins=20)\n",
    "plt.show()"
   ]
  },
  {
   "cell_type": "code",
   "execution_count": 24,
   "metadata": {},
   "outputs": [
    {
     "data": {
      "image/png": "[encoded data removed]",
      "text/plain": [
       "<Figure size 432x288 with 1 Axes>"
      ]
     },
     "metadata": {
      "needs_background": "light"
     },
     "output_type": "display_data"
    }
   ],
   "source": [
    "import numpy as np\n",
    "np.random.seed(1)\n",
    "import matplotlib.pyplot as plt\n",
    "#a)Tạo một mảng 1 chiều với 1000 điểm dữ liệu ngẫu nhiên theo phân phối chuẩn (normal distribution) với trung bình (mean) 100 và độ lệch chuẩn (standard deviation) 5.\n",
    "import numpy as np\n",
    "import matplotlib.pyplot as plt\n",
    "np.random.seed(1)\n",
    "arr = np.random.normal(100, 5, 1000)\n",
    "#b) Tính giá trị trung bình và độ lệch chuẩn của dữ liệu.\n",
    "mean = np.mean(arr)\n",
    "std = np.std(arr)\n",
    "#c)Đếm số lượng điểm dữ liệu nằm trong khoảng từ 40 đến 60.\n",
    "arr_range = np.arange(40, 61)\n",
    "arr_in_range = np.isin(arr, arr_range)\n",
    "count = np.sum(arr_in_range)\n",
    "# d)Vẽ biểu đồ histogram của dữ liệu với 20 bins.\n",
    "plt.hist(arr, bins=20)\n",
    "plt.show()"
   ]
  },
  {
   "cell_type": "code",
   "execution_count": 25,
   "metadata": {},
   "outputs": [
    {
     "name": "stdout",
     "output_type": "stream",
     "text": [
      "[37 12  8  9 11  5 15  0 16  1 12  7  6 25 20 37 18 20 11 28]\n",
      "[1 0 0 0 0 0 0 0 0 0 0 0 0 0 0 1 0 0 0 1]\n",
      "(array([ 1,  3,  6,  7, 10, 12, 16], dtype=int64),)\n",
      "[  1 144   0  81   0   0 225   0   0   0 144   0  36   0   0   1 324   0\n",
      "   0   1]\n",
      "309\n"
     ]
    }
   ],
   "source": [
    "np.random.seed(1)\n",
    "# a)Tạo một mảng 1 chiều có 20 phần tử ngẫu nhiên từ 0 đến 40.\n",
    "import numpy as np\n",
    "np.random.seed(1)\n",
    "arr = np.random.randint(0, 41, 20)\n",
    "print(arr)\n",
    "# b) Sử dụng np.where để tạo một mảng mới, trong đó các giá trị lớn hơn 25 được thay thế bằng 1, và các giá trị nhỏ hơn hoặc bằng 50 được thay thế bằng 0.\n",
    "arr_new = np.where(arr > 25, 1, 0)\n",
    "print(arr_new)\n",
    "# c)Tìm tất cả các vị trí của các số chia hết cho 3 trong mảng.\n",
    "ind = np.where(arr % 3 == 0)\n",
    "print(ind)\n",
    "# d)Thay thế tất cả các giá trị là số chia hết cho 3 bằng bình phương của chúng. \n",
    "arr_new[ind] = arr[ind]**2\n",
    "print(arr_new)\n",
    "# e)Tính tổng của các số lẻ trong mảng sau khi đã thực hiện các bước trên.\n",
    "sum_odd = np.sum(arr_new[arr_new % 2 == 1])\n",
    "print(sum_odd)"
   ]
  },
  {
   "cell_type": "code",
   "execution_count": 26,
   "metadata": {},
   "outputs": [],
   "source": [
    "import numpy as np\n",
    "\n",
    "arr = np.arange(10)\n",
    "arr_app = np.concatenate((arr, [10, 20]))"
   ]
  },
  {
   "cell_type": "code",
   "execution_count": 27,
   "metadata": {},
   "outputs": [
    {
     "name": "stdout",
     "output_type": "stream",
     "text": [
      "[ 0  1  2  3  4  5  6  7  8  9 10 20]\n"
     ]
    }
   ],
   "source": [
    "import numpy as np\n",
    "\n",
    "# Tạo mảng arr\n",
    "arr = np.arange(10)\n",
    "\n",
    "# Tạo mảng arr_app\n",
    "arr_app = np.concatenate((arr, [10, 20]))\n",
    "\n",
    "# Hiển thị arr_app\n",
    "print(arr_app)"
   ]
  },
  {
   "cell_type": "code",
   "execution_count": null,
   "metadata": {},
   "outputs": [],
   "source": []
  }
 ],
 "metadata": {
  "kernelspec": {
   "display_name": "Python 3",
   "language": "python",
   "name": "python3"
  },
  "language_info": {
   "codemirror_mode": {
    "name": "ipython",
    "version": 3
   },
   "file_extension": ".py",
   "mimetype": "text/x-python",
   "name": "python",
   "nbconvert_exporter": "python",
   "pygments_lexer": "ipython3",
   "version": "3.7.1"
  }
 },
 "nbformat": 4,
 "nbformat_minor": 2
}
